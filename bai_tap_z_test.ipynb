{
  "nbformat": 4,
  "nbformat_minor": 0,
  "metadata": {
    "colab": {
      "name": "bai_tap_z_test.ipynb",
      "provenance": [],
      "collapsed_sections": [],
      "authorship_tag": "ABX9TyM+oy8XITpywmW9wcSLwxXK",
      "include_colab_link": true
    },
    "kernelspec": {
      "name": "python3",
      "display_name": "Python 3"
    },
    "language_info": {
      "name": "python"
    }
  },
  "cells": [
    {
      "cell_type": "markdown",
      "metadata": {
        "id": "view-in-github",
        "colab_type": "text"
      },
      "source": [
        "<a href=\"https://colab.research.google.com/github/7h310v3/PTDL/blob/master/bai_tap_z_test.ipynb\" target=\"_parent\"><img src=\"https://colab.research.google.com/assets/colab-badge.svg\" alt=\"Open In Colab\"/></a>"
      ]
    },
    {
      "cell_type": "markdown",
      "source": [
        "XÂY DỰNG CHƯƠNG TRÌNH KIỂM ĐỊNH Z (HOẶC T) CHO CÁC BÀI TẬP SAU\n",
        "\n",
        "Gợi ý:\n",
        "\n",
        "- Số liệu được sinh ngẫu nhiên theo phân phối chuẩn\n",
        "- Sử dụng gói phần mềm statsmodels để tiến hành kiểm định\n",
        "- Đối với các bài tập kiểm định giả thuyết thì sinh viên cần phát biểu các giả thuyết (bằng tiếng Việt) $H_{0}$ và $H_{a}$ trước khi lập trình kiểm định"
      ],
      "metadata": {
        "id": "liSfzuj2r3tC"
      }
    },
    {
      "cell_type": "code",
      "execution_count": 5,
      "metadata": {
        "id": "1SiXf6gSr1UC"
      },
      "outputs": [],
      "source": [
        "import math\n",
        "import random\n",
        "import warnings\n",
        "import numpy as np\n",
        "import pandas as pd\n",
        "import seaborn as sns\n",
        "from scipy import stats\n",
        "import scipy.stats as st\n",
        "import matplotlib.pyplot as plt\n",
        "from statsmodels.stats.weightstats import ztest"
      ]
    },
    {
      "cell_type": "markdown",
      "source": [
        "Bài 1: You’re a Q/C inspector for Gallo. The sample standard deviation for 2-liter bottles is .05 liters.  A random sample of 100 bottles showed sasmple mean = 1.99 liters.  What is the 90%  confidence interval estimate of the true mean amount in 2-liter bottles? "
      ],
      "metadata": {
        "id": "RV-pauiqr6uH"
      }
    },
    {
      "cell_type": "code",
      "source": [
        "#Sinh ngẫu nhiên 100 mẫu tuân theo phân phối chuẩn có trung bình mẫu là 1.99 và độ lệch chuẩn là 0.05\n",
        "mean = 1.99\n",
        "std = 0.05\n",
        "n = 100\n",
        "sample = np.random.normal(mean, std, n)\n",
        "print(samples[:10])"
      ],
      "metadata": {
        "colab": {
          "base_uri": "https://localhost:8080/"
        },
        "id": "O_0p1DJxsExS",
        "outputId": "94caafe2-acd1-4d21-f0cf-8b8203281c57"
      },
      "execution_count": 10,
      "outputs": [
        {
          "output_type": "stream",
          "name": "stdout",
          "text": [
            "[1.9860684  1.96776492 1.96873872 1.97999386 2.02939337 2.02371298\n",
            " 1.97507368 2.13544711 1.9893606  1.89987071]\n"
          ]
        }
      ]
    },
    {
      "cell_type": "code",
      "source": [
        "#Tính sai số chuẩn của giá trị trung bình.\n",
        "st.norm.interval(alpha = 0.9, loc = mean, scale = st.sem(sample))"
      ],
      "metadata": {
        "id": "Ay20kD0ayMVR",
        "colab": {
          "base_uri": "https://localhost:8080/"
        },
        "outputId": "c7f19490-ea4d-4f5a-9450-ee376ce8fd2b"
      },
      "execution_count": 30,
      "outputs": [
        {
          "output_type": "execute_result",
          "data": {
            "text/plain": [
              "(1.981502464111851, 1.998497535888149)"
            ]
          },
          "metadata": {},
          "execution_count": 30
        }
      ]
    },
    {
      "cell_type": "markdown",
      "source": [
        "Bài 2: You’re a time study analyst in manufacturing. You’ve recorded the following task times (min.): 3.6, 4.2, 4.0, 3.5, 3.8, 3.1. What is the 90% confidence interval estimate of the population mean task time?"
      ],
      "metadata": {
        "id": "uyapncYBjw-M"
      }
    },
    {
      "cell_type": "code",
      "source": [
        "data = [3.6, 4.2, 4.0, 3.5, 3.8, 3.1]\n",
        "#Sử dụng t test) khi đang làm việc với một mẫu nhỏ (n <30)\n",
        "st.t.interval(alpha = 0.9,df = len(data)-1,loc = np.mean(data), scale = st.sem(data))"
      ],
      "metadata": {
        "colab": {
          "base_uri": "https://localhost:8080/"
        },
        "id": "67W1q6Z7j0Hh",
        "outputId": "a404df9c-55e0-4ea9-9207-ebd23d1e79f9"
      },
      "execution_count": 31,
      "outputs": [
        {
          "output_type": "execute_result",
          "data": {
            "text/plain": [
              "(3.3792758632100677, 4.020724136789934)"
            ]
          },
          "metadata": {},
          "execution_count": 31
        }
      ]
    },
    {
      "cell_type": "markdown",
      "source": [
        "Bài 3: Does an average box of cereal contain 368 grams of cereal?  A random sample of 25 boxes had $\\overline{\\rm x}$ = 372.5.  The company has specified $\\sigma$ to be 25 grams.  Test at the .05 level of significance.\n",
        "\n",
        "Xây dựng giả thuyết:\n",
        "\n",
        "$$H_{0}: \\mu = 368$$\n",
        "\n",
        "Giả thuyết thay thế: \n",
        "\n",
        "$$H_a \\ne 368 $$\n"
      ],
      "metadata": {
        "id": "Iqx75KZV0oUK"
      }
    },
    {
      "cell_type": "code",
      "source": [
        "#Sinh ngẫu nhiên một mẫu 25 phần tử có trung bình mẫu là 372.5, độ lệch chuẩn là 25\n",
        "samples = np.random.normal(372.5, 25, 25)\n",
        "print(samples[:10])"
      ],
      "metadata": {
        "colab": {
          "base_uri": "https://localhost:8080/"
        },
        "id": "5WIoTZAdlDVv",
        "outputId": "a721bc6c-4abc-489c-d7f6-191a85db54af"
      },
      "execution_count": 35,
      "outputs": [
        {
          "output_type": "stream",
          "name": "stdout",
          "text": [
            "[364.79987207 378.7719296  337.46873642 388.91419039 352.38958\n",
            " 386.78130973 352.88061449 374.86808873 405.29926779 366.67064751]\n"
          ]
        }
      ]
    },
    {
      "cell_type": "code",
      "source": [
        "#Xác định các thông số\n",
        "null_mean = 368 \n",
        "alpha = 0.05"
      ],
      "metadata": {
        "id": "miHCaf8vl0KK"
      },
      "execution_count": 36,
      "outputs": []
    },
    {
      "cell_type": "code",
      "source": [
        "#Kiểm định z\n",
        "ztest_Score, p_value= ztest(samples, value = null_mean, alternative = \"two-sided\")\n",
        "\n",
        "if(p_value <  alpha):\n",
        "  print(\"Có bằng chứng để bác bỏ giả thuyết H0.\")\n",
        "else:\n",
        "  print(\"Chưa có bằng chứng để bác bỏ giả thuyết H0.\")"
      ],
      "metadata": {
        "colab": {
          "base_uri": "https://localhost:8080/"
        },
        "id": "9z_dNMetl0iS",
        "outputId": "45d72307-6a47-4b9f-c32b-b716f23cd197"
      },
      "execution_count": 53,
      "outputs": [
        {
          "output_type": "stream",
          "name": "stdout",
          "text": [
            "Chưa có bằng chứng để bác bỏ giả thuyết H0.\n"
          ]
        }
      ]
    },
    {
      "cell_type": "markdown",
      "source": [
        "Bài 4: You’re a Q/C inspector.  You want to find out if a new machine is making electrical cords to customer specification: average breaking strength of 70 lb. with $\\sigma$ = 3.5 lb.  You take a sample of 36 cords & compute a sample mean of 69.7 lb.  At the .05 level of significance, is there evidence that the machine is not meeting the average breaking strength?\n",
        "\n",
        "Xây dựng giả thuyết:\n",
        "\n",
        "$$H_{0}: \\mu = 70$$\n",
        "\n",
        "Giả thuyết thay thế: \n",
        "\n",
        "$$H_a \\ne 70 $$\n"
      ],
      "metadata": {
        "id": "WQ3QuYpXl9TG"
      }
    },
    {
      "cell_type": "code",
      "source": [
        "#Sinh ngẫu nhiên một mẫu 36 phần tử có trung bình mẫu là 69.75, độ lệch chuẩn là 3.5\n",
        "samples = np.random.normal(69.7, 3.5, 36)\n",
        "print(samples[:10])"
      ],
      "metadata": {
        "colab": {
          "base_uri": "https://localhost:8080/"
        },
        "id": "tZU42xKVl8x_",
        "outputId": "06b3bc77-3000-4d3d-f3fe-7e8493422683"
      },
      "execution_count": 38,
      "outputs": [
        {
          "output_type": "stream",
          "name": "stdout",
          "text": [
            "[73.10518752 69.39623802 67.05793516 70.23418173 70.52118047 68.03604081\n",
            " 69.86253399 66.00565071 70.52080398 62.05130362]\n"
          ]
        }
      ]
    },
    {
      "cell_type": "code",
      "source": [
        "#Xác định các thông số\n",
        "null_mean = 70 \n",
        "alpha = 0.05"
      ],
      "metadata": {
        "id": "Itk8fyxonPeF"
      },
      "execution_count": 39,
      "outputs": []
    },
    {
      "cell_type": "code",
      "source": [
        "#Kiểm định z\n",
        "ztest_Score, p_value = ztest(samples, value = null_mean, alternative = \"two-sided\")\n",
        "if(p_value <  alpha):\n",
        "  print(\"Có bằng chứng để bác bỏ giả thuyết H0.\")\n",
        "else:\n",
        "  print(\"Chưa có bằng chứng để bác bỏ giả thuyết H0.\")"
      ],
      "metadata": {
        "colab": {
          "base_uri": "https://localhost:8080/"
        },
        "id": "Dsyxxz9-nQhc",
        "outputId": "3319aa9f-6b19-4117-ea05-3cc78e61cd69"
      },
      "execution_count": 52,
      "outputs": [
        {
          "output_type": "stream",
          "name": "stdout",
          "text": [
            "Chưa có bằng chứng để bác bỏ giả thuyết H0.\n"
          ]
        }
      ]
    },
    {
      "cell_type": "markdown",
      "source": [
        "Bài 5: Does an average box of cereal contain more than 368 grams of cereal?  A random sample of 25 boxes showed $\\overline{\\rm x}$ =  372.5.  The company has specified $\\sigma$ to be 25 grams.  Test at the .05 level of significance.\n",
        "\n",
        "Xây dựng giả thuyết\n",
        "\n",
        "$$H_{0}: \\mu = 368$$\n",
        "\n",
        "Giả thuyết thay thế: \n",
        "\n",
        "$$H_{a}: \\mu > 368 $$"
      ],
      "metadata": {
        "id": "xy7JII6hoDav"
      }
    },
    {
      "cell_type": "code",
      "source": [
        "#Sinh ngẫu nhiên một mẫu 25 phần tử có trung bình mẫu là 372.5, độ lệch chuẩn là 3.5\n",
        "samples = np.random.normal(372.5, 3.5, 25)\n",
        "print(samples[:10])"
      ],
      "metadata": {
        "colab": {
          "base_uri": "https://localhost:8080/"
        },
        "id": "6qbKNjnlnWF2",
        "outputId": "b7f6a307-1510-45e3-c172-249c89e9edf2"
      },
      "execution_count": 41,
      "outputs": [
        {
          "output_type": "stream",
          "name": "stdout",
          "text": [
            "[370.98477914 370.2223806  376.99863174 373.04510856 370.26488864\n",
            " 375.94563734 377.5811721  364.98764829 366.50098546 380.74927229]\n"
          ]
        }
      ]
    },
    {
      "cell_type": "code",
      "source": [
        "#Xác định các thông số\n",
        "null_mean = 368 \n",
        "alpha = 0.05"
      ],
      "metadata": {
        "id": "ruR2Yv7xnkzQ"
      },
      "execution_count": 42,
      "outputs": []
    },
    {
      "cell_type": "code",
      "source": [
        "#Kiểm định z\n",
        "ztest_Score, p_value = ztest(samples, value = null_mean, alternative= \"larger\")\n",
        "if(p_value <  alpha):\n",
        "  print(\"Có bằng chứng để bác bỏ giả thuyết H0.\")\n",
        "else:\n",
        "  print(\"Chưa có bằng chứng để bác bỏ giả thuyết H0.\")"
      ],
      "metadata": {
        "colab": {
          "base_uri": "https://localhost:8080/"
        },
        "id": "kyhat281oQ6s",
        "outputId": "74751f60-95c2-4031-fbc9-10eb67ec8493"
      },
      "execution_count": 43,
      "outputs": [
        {
          "output_type": "stream",
          "name": "stdout",
          "text": [
            "Có bằng chứng để bác bỏ giả thuyết H0.\n"
          ]
        }
      ]
    },
    {
      "cell_type": "markdown",
      "source": [
        "Bài 6: You’re an analyst for Ford.  You want to find out if the average miles per gallon of Escorts is at least 32 mpg. Similar models have a standard deviation of 3.8 mpg. You take a sample of 60 Escorts & compute a sample mean of 30.7 mpg. At the .01 level of significance, is there evidence that the miles per gallon is less than 32?\n",
        "\n",
        "Xây dựng giả thuyết\n",
        "\n",
        "$$H_{0}: \\mu = 32$$\n",
        "\n",
        "Giả thuyết thay thế: \n",
        "\n",
        "$$H_{a}: \\mu < 32 $$"
      ],
      "metadata": {
        "id": "ao_QRqY0t6k8"
      }
    },
    {
      "cell_type": "code",
      "source": [
        "#Sinh ngẫu nhiên một mẫu 60 phần tử có trung bình mẫu là 30.7, độ lệch chuẩn là 3.8\n",
        "samples = np.random.normal(30.7, 3.8, 60)\n",
        "print(samples[:10])"
      ],
      "metadata": {
        "colab": {
          "base_uri": "https://localhost:8080/"
        },
        "id": "4WxZ5HhpoWbm",
        "outputId": "ad6aed74-f9eb-4189-e33c-dccb17f393df"
      },
      "execution_count": 44,
      "outputs": [
        {
          "output_type": "stream",
          "name": "stdout",
          "text": [
            "[29.39417708 25.67250064 30.7657523  31.38179172 34.11398494 20.61584657\n",
            " 33.08802999 30.90880463 29.15182821 19.4961575 ]\n"
          ]
        }
      ]
    },
    {
      "cell_type": "code",
      "source": [
        "#Xác định các thông số\n",
        "null_mean = 32\n",
        "alpha = 0.01"
      ],
      "metadata": {
        "id": "t71L9DHjuUfE"
      },
      "execution_count": 45,
      "outputs": []
    },
    {
      "cell_type": "code",
      "source": [
        "#Kiểm định z\n",
        "ztest_Score, p_value = ztest(samples, value = null_mean, alternative= \"larger\")\n",
        "if(p_value <  alpha):\n",
        "  print(\"Có bằng chứng để bác bỏ giả thuyết H0.\")\n",
        "else:\n",
        "  print(\"Chưa có bằng chứng để bác bỏ giả thuyết H0.\")"
      ],
      "metadata": {
        "colab": {
          "base_uri": "https://localhost:8080/"
        },
        "id": "W6l4aXmyuY3N",
        "outputId": "b4470117-d858-438c-d700-0d9380f4f748"
      },
      "execution_count": 46,
      "outputs": [
        {
          "output_type": "stream",
          "name": "stdout",
          "text": [
            "Chưa có bằng chứng để bác bỏ giả thuyết H0.\n"
          ]
        }
      ]
    },
    {
      "cell_type": "markdown",
      "source": [
        "Bài 7: Does an average box of cereal contain 368 grams of cereal? A random sample of 25 boxes showed  $\\overline{\\rm x}$  = 372.5. The company has specified  σ  to be 15 grams. Find the p-Value.\n",
        "\n",
        "Xây dựng giả thuyết : \n",
        "\n",
        "$$H_0 = 368 $$\n",
        "Giả thuyết thay thế : \n",
        "$$H_a \\ne 368 $$"
      ],
      "metadata": {
        "id": "l8SzHS8Ju2w_"
      }
    },
    {
      "cell_type": "code",
      "source": [
        "#Sinh ngẫu nhiên một mẫu 25 phần tử có trung bình mẫu là 372.5, độ lệch chuẩn là 15\n",
        "samples = np.random.normal(372.5, 15, 25)\n",
        "print(samples[:10])"
      ],
      "metadata": {
        "colab": {
          "base_uri": "https://localhost:8080/"
        },
        "id": "LmUWYrxWuZ8a",
        "outputId": "6f88ba56-e97b-4f02-af1c-f7963c5191f5"
      },
      "execution_count": 47,
      "outputs": [
        {
          "output_type": "stream",
          "name": "stdout",
          "text": [
            "[394.2879078  355.09562811 363.08888313 344.40379768 391.55586975\n",
            " 371.71232371 391.17101239 340.07783931 395.61264482 403.05571497]\n"
          ]
        }
      ]
    },
    {
      "cell_type": "code",
      "source": [
        "#Xác định các thông số\n",
        "null_mean = 368"
      ],
      "metadata": {
        "id": "NsxkewFfxbzG"
      },
      "execution_count": 48,
      "outputs": []
    },
    {
      "cell_type": "code",
      "source": [
        "#Tìm p_value\n",
        "ztest_Score, p_value = ztest(samples, value = null_mean, alternative= \"two-sided\")\n",
        "\n",
        "print(\"p_value:\", p_value)"
      ],
      "metadata": {
        "colab": {
          "base_uri": "https://localhost:8080/"
        },
        "id": "sjqDpmj-xgA6",
        "outputId": "2abec199-420c-4877-f5fa-08a343580bc6"
      },
      "execution_count": 51,
      "outputs": [
        {
          "output_type": "stream",
          "name": "stdout",
          "text": [
            "p_value: 0.06492742493497985\n"
          ]
        }
      ]
    },
    {
      "cell_type": "markdown",
      "source": [
        "BBài 8: Does an average box of cereal contain more than 368 grams of cereal? A random sample of 25 boxes showed  $\\overline{\\rm x}$ = 372.5. The company has specified  σ  to be 15 grams. Find the p-Value.\n",
        "\n",
        "Xây dựng giả thuyết : \n",
        "\n",
        "$$H_0 = 368 $$\n",
        "Giả thuyết thay thế : \n",
        "$$H_a > 368 $$"
      ],
      "metadata": {
        "id": "LrCdqVSZx1oG"
      }
    },
    {
      "cell_type": "code",
      "source": [
        "#Sinh ngẫu nhiên một mẫu 25 phần tử có trung bình mẫu là 372.5, độ lệch chuẩn là 15\n",
        "samples = np.random.normal(372.5, 15, 25)\n",
        "print(samples[:10])"
      ],
      "metadata": {
        "colab": {
          "base_uri": "https://localhost:8080/"
        },
        "outputId": "6f88ba56-e97b-4f02-af1c-f7963c5191f5",
        "id": "1dEkQpsSx1oH"
      },
      "execution_count": null,
      "outputs": [
        {
          "output_type": "stream",
          "name": "stdout",
          "text": [
            "[394.2879078  355.09562811 363.08888313 344.40379768 391.55586975\n",
            " 371.71232371 391.17101239 340.07783931 395.61264482 403.05571497]\n"
          ]
        }
      ]
    },
    {
      "cell_type": "code",
      "source": [
        "#Xác định các thông số\n",
        "null_mean = 368"
      ],
      "metadata": {
        "id": "nizy5UV9x1oH"
      },
      "execution_count": null,
      "outputs": []
    },
    {
      "cell_type": "code",
      "source": [
        "#Tìm p_value\n",
        "ztest_Score, p_value = ztest(samples, value = null_mean, alternative= \"larger\")\n",
        "\n",
        "print(\"p_value:\", p_value)"
      ],
      "metadata": {
        "colab": {
          "base_uri": "https://localhost:8080/"
        },
        "outputId": "97da9519-3683-4f2a-93af-0d711fdc42ad",
        "id": "kHjxKfNNx1oH"
      },
      "execution_count": null,
      "outputs": [
        {
          "output_type": "stream",
          "name": "stdout",
          "text": [
            "p_value: 0.03246371246748993\n"
          ]
        }
      ]
    },
    {
      "cell_type": "markdown",
      "source": [
        "Bài 9: You’re an analyst for Ford.  You want to find out if the average miles per gallon of Escorts is less than 32 mpg.   Similar models have a standard deviation of 3.8 mpg.  You take a sample of 60 Escorts & compute a sample mean of 30.7 mpg.  What is the value of the observed level of significance (p-Value)?\n",
        "\n",
        "Xây dựng giả thuyết : \n",
        "$$H_0 = 32 $$\n",
        "Giả thuyết thay thế : \n",
        "$$H_1 < 32 $$"
      ],
      "metadata": {
        "id": "N_n_9MP0yTha"
      }
    },
    {
      "cell_type": "code",
      "source": [
        "#Sinh ngẫu nhiên một mẫu 60 phần tử có trung bình mẫu là 30.7, độ lệch chuẩn là 3.8\n",
        "samples = np.random.normal(30.7, 3.8, 60)\n",
        "print(samples[:10])"
      ],
      "metadata": {
        "colab": {
          "base_uri": "https://localhost:8080/"
        },
        "id": "DO2z8kGMxomq",
        "outputId": "340541b8-6543-427d-e550-b31e43d26eee"
      },
      "execution_count": 55,
      "outputs": [
        {
          "output_type": "stream",
          "name": "stdout",
          "text": [
            "[32.60033096 28.2046582  28.47376527 33.44003343 35.86050135 32.08034084\n",
            " 30.0263608  34.64922282 33.72160045 31.54353954]\n"
          ]
        }
      ]
    },
    {
      "cell_type": "code",
      "source": [
        "#Xác định các thông số\n",
        "null_mean = 32 "
      ],
      "metadata": {
        "id": "q9o89G3ay2hX"
      },
      "execution_count": 56,
      "outputs": []
    },
    {
      "cell_type": "code",
      "source": [
        "#thông số nhỏ nên có thể sử dụng kiểm định t\n",
        "#Kiểm định t:\n",
        "t_test, p_value = stats.ttest_1samp(samples, null_mean)\n",
        "print(\"p_value:\", p_value)"
      ],
      "metadata": {
        "colab": {
          "base_uri": "https://localhost:8080/"
        },
        "id": "Wfx0-v1zy6dH",
        "outputId": "13e9deaf-3618-4db2-8577-24ba52a0fd89"
      },
      "execution_count": 60,
      "outputs": [
        {
          "output_type": "stream",
          "name": "stdout",
          "text": [
            "p_value: 0.002924722838056668\n"
          ]
        }
      ]
    },
    {
      "cell_type": "markdown",
      "source": [
        "Bài 10: Does an average box of cereal contain 368 grams of cereal? A random sample of 36 boxes had a mean of 372.5 and a standard deviation of 12 grams. Test at the .05 level of significance.\n",
        "\n",
        "Xây dựng giả thuyết : \n",
        "\n",
        "$$H_0 = 368 $$\n",
        "Giả thuyết thay thế : \n",
        "$$H_a \\ne 368 $$"
      ],
      "metadata": {
        "id": "kiElrQ_70yY5"
      }
    },
    {
      "cell_type": "code",
      "source": [
        "#Sinh ngẫu nhiên một mẫu 36 phần tử có trung bình mẫu là 372.5, độ lệch chuẩn là 12\n",
        "samples = np.random.normal(372.5, 12, 36)\n",
        "print(samples[:10])"
      ],
      "metadata": {
        "colab": {
          "base_uri": "https://localhost:8080/"
        },
        "id": "RvVJFtBRy7Bi",
        "outputId": "2e2cddb1-f7d3-401c-89b1-ffb1962362f5"
      },
      "execution_count": 61,
      "outputs": [
        {
          "output_type": "stream",
          "name": "stdout",
          "text": [
            "[369.63472134 388.18597087 374.04126259 373.54231113 382.26765121\n",
            " 371.80920741 374.32152936 361.01968884 364.6929608  384.05480136]\n"
          ]
        }
      ]
    },
    {
      "cell_type": "code",
      "source": [
        "#Xác định các thông số\n",
        "null_mean = 32 \n",
        "alpha = 0.05"
      ],
      "metadata": {
        "id": "7V4R6rBU2KMq"
      },
      "execution_count": 62,
      "outputs": []
    },
    {
      "cell_type": "code",
      "source": [
        "#Kiểm định z\n",
        "ztest_Score, p_value = ztest(samples, value = null_mean, alternative= \"two-sided\")\n",
        "if(p_value <  alpha):\n",
        "  print(\"Có bằng chứng để bác bỏ giả thuyết H0.\")\n",
        "else:\n",
        "  print(\"Chưa có bằng chứng để bác bỏ giả thuyết H0.\")"
      ],
      "metadata": {
        "colab": {
          "base_uri": "https://localhost:8080/"
        },
        "id": "x0TMNj5h2PN-",
        "outputId": "2db4f30d-8220-4cc9-94a5-cc3e4f580676"
      },
      "execution_count": 64,
      "outputs": [
        {
          "output_type": "stream",
          "name": "stdout",
          "text": [
            "Có bằng chứng để bác bỏ giả thuyết H0.\n"
          ]
        }
      ]
    },
    {
      "cell_type": "markdown",
      "source": [
        "Bài 11: You work for the FTC. A manufacturer of detergent claims that the mean weight of detergent is 3.25 lb. You take a random sample of 64 containers. You calculate the sample average to be 3.238 lb. with a standard deviation of .117 lb. At the .01 level of significance, is the manufacturer correct?\n",
        "\n",
        "Xây dựng giả thuyết : \n",
        "$$H_0 = 3,25 $$\n",
        "Giả thuyết thay thế :\n",
        "$$H_a \\ne 3,25 $$"
      ],
      "metadata": {
        "id": "WuaP9gvB2Y2I"
      }
    },
    {
      "cell_type": "code",
      "source": [
        "#Sinh ngẫu nhiên một mẫu 64 phần tử có trung bình mẫu là 3.238, độ lệch chuẩn là 0.117\n",
        "samples = np.random.normal(3.238, 0.117, 63)\n",
        "print(samples[:10])"
      ],
      "metadata": {
        "colab": {
          "base_uri": "https://localhost:8080/"
        },
        "id": "Fl6lPD5r2Sq5",
        "outputId": "1d5281da-e6bc-409e-bf60-cf8cd4f2be3b"
      },
      "execution_count": 65,
      "outputs": [
        {
          "output_type": "stream",
          "name": "stdout",
          "text": [
            "[3.33590378 3.19364595 3.13535964 3.44917994 3.18072573 3.30909083\n",
            " 3.12335782 3.00813526 3.08866656 3.2468745 ]\n"
          ]
        }
      ]
    },
    {
      "cell_type": "code",
      "source": [
        "#Xác định các thông số\n",
        "null_mean = 3.25\n",
        "alpha = 0.01"
      ],
      "metadata": {
        "id": "K-D97u5Z21tr"
      },
      "execution_count": 66,
      "outputs": []
    },
    {
      "cell_type": "code",
      "source": [
        "#Kiểm định z\n",
        "ztest_Score, p_value = ztest(samples, value = null_mean, alternative= \"two-sided\")\n",
        "if(p_value <  alpha):\n",
        "  print(\"Có bằng chứng để bác bỏ giả thuyết H0.\")\n",
        "else:\n",
        "  print(\"Chưa có bằng chứng để bác bỏ giả thuyết H0.\")"
      ],
      "metadata": {
        "colab": {
          "base_uri": "https://localhost:8080/"
        },
        "id": "w11jjDHD25ub",
        "outputId": "79ea1ec1-8f5a-4931-a76e-9d7be2d217aa"
      },
      "execution_count": 67,
      "outputs": [
        {
          "output_type": "stream",
          "name": "stdout",
          "text": [
            "Chưa có bằng chứng để bác bỏ giả thuyết H0.\n"
          ]
        }
      ]
    },
    {
      "cell_type": "markdown",
      "source": [
        "Bài 12: Is the average capacity of batteries less than 140 ampere-hours? A random sample of 20 batteries had a mean of 138.47 and a standard deviation of 2.66. Assume a normal distribution. Test at the .05 level of significance.\n",
        "\n",
        "Xây dựng giả thuyết : \n",
        "$$H_0 = 140 $$\n",
        "Giả thuyết thay thế : \n",
        "$$H_1 < 140 $$"
      ],
      "metadata": {
        "id": "OGiejycU31cw"
      }
    },
    {
      "cell_type": "code",
      "source": [
        "#Sinh ngẫu nhiên một mẫu 20 phần tử có trung bình mẫu là 138,47 ; độ lệch chuẩn là 2,26  \n",
        "samples = np.random.normal(138.47,2.26,20)\n",
        "print(samples[:10])"
      ],
      "metadata": {
        "colab": {
          "base_uri": "https://localhost:8080/"
        },
        "id": "EpMD6uSk262F",
        "outputId": "bd0cde71-c07a-4c04-ad28-38bd6c3f6d34"
      },
      "execution_count": 68,
      "outputs": [
        {
          "output_type": "stream",
          "name": "stdout",
          "text": [
            "[139.36876214 137.63246761 135.29397183 137.22547718 141.2703079\n",
            " 137.37326358 138.65545798 138.82453086 139.64115392 135.12567708]\n"
          ]
        }
      ]
    },
    {
      "cell_type": "code",
      "source": [
        "#Xác định các thông số\n",
        "null_mean = 140 \n",
        "alpha = 0.05"
      ],
      "metadata": {
        "id": "xA3-PGRT38Ky"
      },
      "execution_count": 69,
      "outputs": []
    },
    {
      "cell_type": "code",
      "source": [
        "#Kiểm định z\n",
        "ztest_Score, p_value = ztest(samples, value = null_mean, alternative= \"larger\")\n",
        "if(p_value <  alpha):\n",
        "  print(\"Có bằng chứng để bác bỏ giả thuyết H0.\")\n",
        "else:\n",
        "  print(\"Chưa có bằng chứng để bác bỏ giả thuyết H0.\")"
      ],
      "metadata": {
        "colab": {
          "base_uri": "https://localhost:8080/"
        },
        "id": "bSRq1FFX39ZX",
        "outputId": "10e95e44-4b3d-4b17-eff8-77c023201a66"
      },
      "execution_count": 70,
      "outputs": [
        {
          "output_type": "stream",
          "name": "stdout",
          "text": [
            "Chưa có bằng chứng để bác bỏ giả thuyết H0.\n"
          ]
        }
      ]
    },
    {
      "cell_type": "markdown",
      "source": [
        "Bài 13: You’re a marketing analyst for Wal-Mart. Wal-Mart had teddy bears on sale last week. The weekly sales of bears sold in 10 stores was: 8 11 0 4 7 8 10 5 8 3. At the .05 level of significance, is there evidence that the average bear sales per store is more than 5?\n",
        "\n",
        "Xây dựng giả thuyết : \n",
        "\n",
        "$$H_0 = 368 $$\n",
        "Giả thuyết thay thế : \n",
        "$$H_a > 368 $$"
      ],
      "metadata": {
        "id": "NjZZBlD24GIn"
      }
    },
    {
      "cell_type": "code",
      "source": [
        "samples = np.array([8,11, 0, 4, 7, 8, 10, 5, 8, 3])"
      ],
      "metadata": {
        "id": "4CFzb78l4DGg"
      },
      "execution_count": 71,
      "outputs": []
    },
    {
      "cell_type": "code",
      "source": [
        "#Xác định các thông số\n",
        "null_mean = 5 \n",
        "alpha = 0.05"
      ],
      "metadata": {
        "id": "hTwx6YgW4O8I"
      },
      "execution_count": 72,
      "outputs": []
    },
    {
      "cell_type": "code",
      "source": [
        "#Kiểm định z\n",
        "ztest_Score, p_value = ztest(samples, value = null_mean, alternative= \"larger\")\n",
        "if(p_value <  alpha):\n",
        "  print(\"Có bằng chứng để bác bỏ giả thuyết H0.\")\n",
        "else:\n",
        "  print(\"Chưa có bằng chứng để bác bỏ giả thuyết H0.\")"
      ],
      "metadata": {
        "colab": {
          "base_uri": "https://localhost:8080/"
        },
        "id": "DTIXmIUV4PKb",
        "outputId": "4dccdfe2-fc6e-4f64-940e-faa53abdce37"
      },
      "execution_count": 73,
      "outputs": [
        {
          "output_type": "stream",
          "name": "stdout",
          "text": [
            "Chưa có bằng chứng để bác bỏ giả thuyết H0.\n"
          ]
        }
      ]
    }
  ]
}