{
  "nbformat": 4,
  "nbformat_minor": 0,
  "metadata": {
    "colab": {
      "name": "Numpy5_1.ipynb",
      "private_outputs": true,
      "provenance": [],
      "collapsed_sections": [],
      "authorship_tag": "ABX9TyP1W4+bdfsXU7MGA1FNQcM9",
      "include_colab_link": true
    },
    "kernelspec": {
      "name": "python3",
      "display_name": "Python 3"
    },
    "language_info": {
      "name": "python"
    },
    "accelerator": "GPU"
  },
  "cells": [
    {
      "cell_type": "markdown",
      "metadata": {
        "id": "view-in-github",
        "colab_type": "text"
      },
      "source": [
        "<a href=\"https://colab.research.google.com/github/7h310v3/PTDL/blob/master/Numpy5_1.ipynb\" target=\"_parent\"><img src=\"https://colab.research.google.com/assets/colab-badge.svg\" alt=\"Open In Colab\"/></a>"
      ]
    },
    {
      "cell_type": "markdown",
      "source": [
        "\n",
        "Liên kết google colab với google drive\n",
        "\n",
        "\n"
      ],
      "metadata": {
        "id": "Ty6r76weKDHY"
      }
    },
    {
      "cell_type": "code",
      "execution_count": null,
      "metadata": {
        "id": "ymYronhLIE3q"
      },
      "outputs": [],
      "source": [
        "from google.colab import drive\n",
        "drive.mount('/content/gdrive')"
      ]
    },
    {
      "cell_type": "markdown",
      "source": [
        "Thêm hàm Image của thư viện PIL vào.\n"
      ],
      "metadata": {
        "id": "3B8cnrs-KCQT"
      }
    },
    {
      "cell_type": "code",
      "source": [
        "from PIL import Image"
      ],
      "metadata": {
        "id": "DCwOW1NhJ_5W"
      },
      "execution_count": null,
      "outputs": []
    },
    {
      "cell_type": "markdown",
      "source": [
        "Đọc tệp ảnh từ google drive bằng hàm Image.open"
      ],
      "metadata": {
        "id": "kXYt92sbKLhc"
      }
    },
    {
      "cell_type": "code",
      "source": [
        "img = Image.open(\"gdrive/My Drive/PTDL/numpy5/thelove.png\")"
      ],
      "metadata": {
        "id": "CndTTOg_IXvw"
      },
      "execution_count": null,
      "outputs": []
    },
    {
      "cell_type": "markdown",
      "source": [
        "Xuất tệp ảnh ra màn hình với hàm show()"
      ],
      "metadata": {
        "id": "eG9HP06lKU8M"
      }
    },
    {
      "cell_type": "code",
      "source": [
        "img.show()"
      ],
      "metadata": {
        "id": "sm9pGE10JqP7"
      },
      "execution_count": null,
      "outputs": []
    }
  ]
}