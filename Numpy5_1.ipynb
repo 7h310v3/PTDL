{
  "nbformat": 4,
  "nbformat_minor": 0,
  "metadata": {
    "colab": {
      "name": "Numpy5_1.ipynb",
      "private_outputs": true,
      "provenance": [],
      "collapsed_sections": [],
      "authorship_tag": "ABX9TyNz0wTtWs5ViHCMIeA1NXSG",
      "include_colab_link": true
    },
    "kernelspec": {
      "name": "python3",
      "display_name": "Python 3"
    },
    "language_info": {
      "name": "python"
    },
    "accelerator": "GPU"
  },
  "cells": [
    {
      "cell_type": "markdown",
      "metadata": {
        "id": "view-in-github",
        "colab_type": "text"
      },
      "source": [
        "<a href=\"https://colab.research.google.com/github/7h310v3/PTDL/blob/master/Numpy5_1.ipynb\" target=\"_parent\"><img src=\"https://colab.research.google.com/assets/colab-badge.svg\" alt=\"Open In Colab\"/></a>"
      ]
    },
    {
      "cell_type": "markdown",
      "source": [
        "\n",
        "Liên kết google colab với google drive\n",
        "\n",
        "\n"
      ],
      "metadata": {
        "id": "Ty6r76weKDHY"
      }
    },
    {
      "cell_type": "code",
      "execution_count": null,
      "metadata": {
        "id": "ymYronhLIE3q"
      },
      "outputs": [],
      "source": [
        "from google.colab import drive\n",
        "drive.mount('/content/gdrive')"
      ]
    },
    {
      "cell_type": "markdown",
      "source": [
        "Thêm hàm Image của thư viện PIL vào.\n"
      ],
      "metadata": {
        "id": "3B8cnrs-KCQT"
      }
    },
    {
      "cell_type": "code",
      "source": [
        "from PIL import Image"
      ],
      "metadata": {
        "id": "DCwOW1NhJ_5W"
      },
      "execution_count": null,
      "outputs": []
    },
    {
      "cell_type": "markdown",
      "source": [
        "Đọc tệp ảnh từ google drive bằng hàm Image.open"
      ],
      "metadata": {
        "id": "kXYt92sbKLhc"
      }
    },
    {
      "cell_type": "code",
      "source": [
        "img = Image.open(\"gdrive/My Drive/PTDL/numpy5/thelove.png\")"
      ],
      "metadata": {
        "id": "CndTTOg_IXvw"
      },
      "execution_count": null,
      "outputs": []
    },
    {
      "cell_type": "markdown",
      "source": [
        "Xuất tệp ảnh ra màn hình với hàm show()"
      ],
      "metadata": {
        "id": "eG9HP06lKU8M"
      }
    },
    {
      "cell_type": "code",
      "source": [
        "img.show()"
      ],
      "metadata": {
        "id": "sm9pGE10JqP7"
      },
      "execution_count": null,
      "outputs": []
    },
    {
      "cell_type": "markdown",
      "source": [
        "Thêm thư viện numpy"
      ],
      "metadata": {
        "id": "fRFFFk6ENjzU"
      }
    },
    {
      "cell_type": "code",
      "source": [
        "import numpy as np"
      ],
      "metadata": {
        "id": "tFJ3gwhpNhd_"
      },
      "execution_count": null,
      "outputs": []
    },
    {
      "cell_type": "markdown",
      "source": [
        "Chuyển bức ảnh từ cấu trúc dữ liệu của PIL sang NumPy array và xuất ra số chiều (ndim)\n",
        "và kích thước (shape) của array kết quả."
      ],
      "metadata": {
        "id": "LuVuS1D-Noi4"
      }
    },
    {
      "cell_type": "code",
      "source": [
        "img_array = np.array(img)\n",
        "\n",
        "#Xuất số chiều(ndim) của bức ảnh thelove.png ở dạng Numpy array\n",
        "print(\"Số chiều(ndim) của bức ảnh ở dạng Numpy array: \", img_array.ndim)\n",
        "\n",
        "#Xuất kích thước(shape) của bức ảnh thelove.png ở dạng Numpy array\n",
        "print(\"Kích thước(shape) của bức ảnh ở dạng Numpy array: \", img_array.shape)"
      ],
      "metadata": {
        "id": "JR3TnjmmNoC3"
      },
      "execution_count": null,
      "outputs": []
    },
    {
      "cell_type": "markdown",
      "source": [
        "In nội dung của array chuyển từ tệp ảnh thelove.png\n"
      ],
      "metadata": {
        "id": "2pgDojAVPXye"
      }
    },
    {
      "cell_type": "code",
      "source": [
        "print(\"Nội dung của array chuyển từ tệp ảnh thelove.png : \\n\", img_array)"
      ],
      "metadata": {
        "id": "Nbd6HEZxPPor"
      },
      "execution_count": null,
      "outputs": []
    },
    {
      "cell_type": "markdown",
      "source": [
        "Tìm hiểu các thao tác khác với ảnh như: \n",
        "\n",
        "(i) chuyển ảnh màu sang ảnh xám;\n",
        "\n",
        "(ii) lưu ảnh vào máy; \n",
        "\n",
        "(iii) phòng to hay thu nhỏ ảnh; .v.v."
      ],
      "metadata": {
        "id": "1WcqF6jhP1Bu"
      }
    },
    {
      "cell_type": "code",
      "source": [
        "#(i) chuyển ảnh màu sang ảnh xám;\n",
        "converted_img = img.convert(\"L\")\n",
        "converted_img.show()\n",
        "\n",
        "#(ii) lưu ảnh vào máy;\n",
        "img.save(\"gdrive/My Drive/PTDL/numpy5/nhatminh.jpg\")\n",
        "\n",
        "#In ra các thông số của ảnh\n",
        "print(f\"format: {img.format}, size: {img.size}, mode: {img.mode}, name: {img.filename}\")\n",
        "\n",
        "#(iii) phòng to hay thu nhỏ ảnh; .v.v.\n",
        "#Thu nhỏ\n",
        "resized_img = img.resize((128, 128))\n",
        "resized_img.show()\n",
        "\n",
        "#Phóng to\n",
        "resized_img = img.resize((1280, 1280))\n",
        "resized_img.show()"
      ],
      "metadata": {
        "id": "fV_Z5825P0MD"
      },
      "execution_count": null,
      "outputs": []
    }
  ]
}