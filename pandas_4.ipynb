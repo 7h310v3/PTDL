{
  "cells": [
    {
      "cell_type": "markdown",
      "metadata": {
        "id": "view-in-github",
        "colab_type": "text"
      },
      "source": [
        "<a href=\"https://colab.research.google.com/github/7h310v3/PTDL/blob/master/pandas_4.ipynb\" target=\"_parent\"><img src=\"https://colab.research.google.com/assets/colab-badge.svg\" alt=\"Open In Colab\"/></a>"
      ]
    },
    {
      "cell_type": "markdown",
      "source": [
        "Câu 1: Xác định các thư viện cần dùng cho quá trình phân tích thống kê mô tả và đưa vào mã lệnh\n",
        "(sử dụng Google Colab)"
      ],
      "metadata": {
        "id": "cipUva8-6spp"
      }
    },
    {
      "cell_type": "code",
      "execution_count": null,
      "metadata": {
        "id": "6cmhQ9JU5c0j"
      },
      "outputs": [],
      "source": [
        "import numpy as np\n",
        "import pandas as pd\n",
        "import matplotlib.pyplot as plt\n",
        "import random as random\n",
        "import seaborn as sns\n",
        "import scipy.stats as st"
      ]
    },
    {
      "cell_type": "markdown",
      "source": [
        "Câu 2: Sử dụng tập dữ liệu Aircraft Wildlife Strikes, 1990-2015 để tiến hành phân tích thống kê\n",
        "mô tả."
      ],
      "metadata": {
        "id": "ssPrK1O77Mtz"
      }
    },
    {
      "cell_type": "code",
      "execution_count": null,
      "metadata": {
        "colab": {
          "base_uri": "https://localhost:8080/"
        },
        "id": "J-Ddjwtd5r7S",
        "outputId": "e462694f-c463-4b90-c271-140715dd526a"
      },
      "outputs": [
        {
          "output_type": "stream",
          "name": "stdout",
          "text": [
            "Mounted at /content/gdrive\n"
          ]
        }
      ],
      "source": [
        "#Liên kết google drive và google colab\n",
        "from google.colab import drive\n",
        "drive.mount('/content/gdrive')"
      ]
    },
    {
      "cell_type": "code",
      "source": [
        "#Đọc dữ liệu\n",
        "df = pd.read_csv(\"/content/gdrive/MyDrive/PTDL/database.csv\")"
      ],
      "metadata": {
        "colab": {
          "base_uri": "https://localhost:8080/"
        },
        "id": "204THmD_6gmF",
        "outputId": "a50e9b10-ac0c-415b-b87f-46501eb6f1cd"
      },
      "execution_count": null,
      "outputs": [
        {
          "output_type": "stream",
          "name": "stderr",
          "text": [
            "/usr/local/lib/python3.7/dist-packages/IPython/core/interactiveshell.py:2882: DtypeWarning: Columns (9,12,15,17) have mixed types.Specify dtype option on import or set low_memory=False.\n",
            "  exec(code_obj, self.user_global_ns, self.user_ns)\n"
          ]
        }
      ]
    },
    {
      "cell_type": "code",
      "source": [
        "df.head()"
      ],
      "metadata": {
        "colab": {
          "base_uri": "https://localhost:8080/",
          "height": 369
        },
        "id": "ujyaQt_Y66kR",
        "outputId": "e10b4ec6-3b3e-4b1a-924a-8633630de656"
      },
      "execution_count": null,
      "outputs": [
        {
          "output_type": "execute_result",
          "data": {
            "text/plain": [
              "   Record ID  Incident Year  Incident Month  Incident Day Operator ID  \\\n",
              "0     127128           1990               1             1         DAL   \n",
              "1     129779           1990               1             1         HAL   \n",
              "2     129780           1990               1             2         UNK   \n",
              "3       2258           1990               1             3         MIL   \n",
              "4       2257           1990               1             3         MIL   \n",
              "\n",
              "          Operator   Aircraft Aircraft Type Aircraft Make Aircraft Model  ...  \\\n",
              "0  DELTA AIR LINES  B-757-200             A           148             26  ...   \n",
              "1     HAWAIIAN AIR       DC-9             A           583             90  ...   \n",
              "2          UNKNOWN    UNKNOWN           NaN           NaN            NaN  ...   \n",
              "3         MILITARY      A-10A             A           345            NaN  ...   \n",
              "4         MILITARY       F-16             A           561            NaN  ...   \n",
              "\n",
              "   Fuselage Strike  Fuselage Damage Landing Gear Strike  Landing Gear Damage  \\\n",
              "0                0                0                   0                    0   \n",
              "1                0                0                   0                    0   \n",
              "2                0                0                   0                    0   \n",
              "3                0                0                   0                    0   \n",
              "4                0                0                   0                    0   \n",
              "\n",
              "  Tail Strike Tail Damage  Lights Strike Lights Damage  Other Strike  \\\n",
              "0           1           1              0             0             0   \n",
              "1           0           0              0             0             1   \n",
              "2           0           0              0             0             0   \n",
              "3           0           0              0             0             0   \n",
              "4           0           0              0             0             0   \n",
              "\n",
              "  Other Damage  \n",
              "0            0  \n",
              "1            0  \n",
              "2            0  \n",
              "3            0  \n",
              "4            0  \n",
              "\n",
              "[5 rows x 66 columns]"
            ],
            "text/html": [
              "\n",
              "  <div id=\"df-aad4522f-475e-47a2-b3d4-d1418c5710d1\">\n",
              "    <div class=\"colab-df-container\">\n",
              "      <div>\n",
              "<style scoped>\n",
              "    .dataframe tbody tr th:only-of-type {\n",
              "        vertical-align: middle;\n",
              "    }\n",
              "\n",
              "    .dataframe tbody tr th {\n",
              "        vertical-align: top;\n",
              "    }\n",
              "\n",
              "    .dataframe thead th {\n",
              "        text-align: right;\n",
              "    }\n",
              "</style>\n",
              "<table border=\"1\" class=\"dataframe\">\n",
              "  <thead>\n",
              "    <tr style=\"text-align: right;\">\n",
              "      <th></th>\n",
              "      <th>Record ID</th>\n",
              "      <th>Incident Year</th>\n",
              "      <th>Incident Month</th>\n",
              "      <th>Incident Day</th>\n",
              "      <th>Operator ID</th>\n",
              "      <th>Operator</th>\n",
              "      <th>Aircraft</th>\n",
              "      <th>Aircraft Type</th>\n",
              "      <th>Aircraft Make</th>\n",
              "      <th>Aircraft Model</th>\n",
              "      <th>...</th>\n",
              "      <th>Fuselage Strike</th>\n",
              "      <th>Fuselage Damage</th>\n",
              "      <th>Landing Gear Strike</th>\n",
              "      <th>Landing Gear Damage</th>\n",
              "      <th>Tail Strike</th>\n",
              "      <th>Tail Damage</th>\n",
              "      <th>Lights Strike</th>\n",
              "      <th>Lights Damage</th>\n",
              "      <th>Other Strike</th>\n",
              "      <th>Other Damage</th>\n",
              "    </tr>\n",
              "  </thead>\n",
              "  <tbody>\n",
              "    <tr>\n",
              "      <th>0</th>\n",
              "      <td>127128</td>\n",
              "      <td>1990</td>\n",
              "      <td>1</td>\n",
              "      <td>1</td>\n",
              "      <td>DAL</td>\n",
              "      <td>DELTA AIR LINES</td>\n",
              "      <td>B-757-200</td>\n",
              "      <td>A</td>\n",
              "      <td>148</td>\n",
              "      <td>26</td>\n",
              "      <td>...</td>\n",
              "      <td>0</td>\n",
              "      <td>0</td>\n",
              "      <td>0</td>\n",
              "      <td>0</td>\n",
              "      <td>1</td>\n",
              "      <td>1</td>\n",
              "      <td>0</td>\n",
              "      <td>0</td>\n",
              "      <td>0</td>\n",
              "      <td>0</td>\n",
              "    </tr>\n",
              "    <tr>\n",
              "      <th>1</th>\n",
              "      <td>129779</td>\n",
              "      <td>1990</td>\n",
              "      <td>1</td>\n",
              "      <td>1</td>\n",
              "      <td>HAL</td>\n",
              "      <td>HAWAIIAN AIR</td>\n",
              "      <td>DC-9</td>\n",
              "      <td>A</td>\n",
              "      <td>583</td>\n",
              "      <td>90</td>\n",
              "      <td>...</td>\n",
              "      <td>0</td>\n",
              "      <td>0</td>\n",
              "      <td>0</td>\n",
              "      <td>0</td>\n",
              "      <td>0</td>\n",
              "      <td>0</td>\n",
              "      <td>0</td>\n",
              "      <td>0</td>\n",
              "      <td>1</td>\n",
              "      <td>0</td>\n",
              "    </tr>\n",
              "    <tr>\n",
              "      <th>2</th>\n",
              "      <td>129780</td>\n",
              "      <td>1990</td>\n",
              "      <td>1</td>\n",
              "      <td>2</td>\n",
              "      <td>UNK</td>\n",
              "      <td>UNKNOWN</td>\n",
              "      <td>UNKNOWN</td>\n",
              "      <td>NaN</td>\n",
              "      <td>NaN</td>\n",
              "      <td>NaN</td>\n",
              "      <td>...</td>\n",
              "      <td>0</td>\n",
              "      <td>0</td>\n",
              "      <td>0</td>\n",
              "      <td>0</td>\n",
              "      <td>0</td>\n",
              "      <td>0</td>\n",
              "      <td>0</td>\n",
              "      <td>0</td>\n",
              "      <td>0</td>\n",
              "      <td>0</td>\n",
              "    </tr>\n",
              "    <tr>\n",
              "      <th>3</th>\n",
              "      <td>2258</td>\n",
              "      <td>1990</td>\n",
              "      <td>1</td>\n",
              "      <td>3</td>\n",
              "      <td>MIL</td>\n",
              "      <td>MILITARY</td>\n",
              "      <td>A-10A</td>\n",
              "      <td>A</td>\n",
              "      <td>345</td>\n",
              "      <td>NaN</td>\n",
              "      <td>...</td>\n",
              "      <td>0</td>\n",
              "      <td>0</td>\n",
              "      <td>0</td>\n",
              "      <td>0</td>\n",
              "      <td>0</td>\n",
              "      <td>0</td>\n",
              "      <td>0</td>\n",
              "      <td>0</td>\n",
              "      <td>0</td>\n",
              "      <td>0</td>\n",
              "    </tr>\n",
              "    <tr>\n",
              "      <th>4</th>\n",
              "      <td>2257</td>\n",
              "      <td>1990</td>\n",
              "      <td>1</td>\n",
              "      <td>3</td>\n",
              "      <td>MIL</td>\n",
              "      <td>MILITARY</td>\n",
              "      <td>F-16</td>\n",
              "      <td>A</td>\n",
              "      <td>561</td>\n",
              "      <td>NaN</td>\n",
              "      <td>...</td>\n",
              "      <td>0</td>\n",
              "      <td>0</td>\n",
              "      <td>0</td>\n",
              "      <td>0</td>\n",
              "      <td>0</td>\n",
              "      <td>0</td>\n",
              "      <td>0</td>\n",
              "      <td>0</td>\n",
              "      <td>0</td>\n",
              "      <td>0</td>\n",
              "    </tr>\n",
              "  </tbody>\n",
              "</table>\n",
              "<p>5 rows × 66 columns</p>\n",
              "</div>\n",
              "      <button class=\"colab-df-convert\" onclick=\"convertToInteractive('df-aad4522f-475e-47a2-b3d4-d1418c5710d1')\"\n",
              "              title=\"Convert this dataframe to an interactive table.\"\n",
              "              style=\"display:none;\">\n",
              "        \n",
              "  <svg xmlns=\"http://www.w3.org/2000/svg\" height=\"24px\"viewBox=\"0 0 24 24\"\n",
              "       width=\"24px\">\n",
              "    <path d=\"M0 0h24v24H0V0z\" fill=\"none\"/>\n",
              "    <path d=\"M18.56 5.44l.94 2.06.94-2.06 2.06-.94-2.06-.94-.94-2.06-.94 2.06-2.06.94zm-11 1L8.5 8.5l.94-2.06 2.06-.94-2.06-.94L8.5 2.5l-.94 2.06-2.06.94zm10 10l.94 2.06.94-2.06 2.06-.94-2.06-.94-.94-2.06-.94 2.06-2.06.94z\"/><path d=\"M17.41 7.96l-1.37-1.37c-.4-.4-.92-.59-1.43-.59-.52 0-1.04.2-1.43.59L10.3 9.45l-7.72 7.72c-.78.78-.78 2.05 0 2.83L4 21.41c.39.39.9.59 1.41.59.51 0 1.02-.2 1.41-.59l7.78-7.78 2.81-2.81c.8-.78.8-2.07 0-2.86zM5.41 20L4 18.59l7.72-7.72 1.47 1.35L5.41 20z\"/>\n",
              "  </svg>\n",
              "      </button>\n",
              "      \n",
              "  <style>\n",
              "    .colab-df-container {\n",
              "      display:flex;\n",
              "      flex-wrap:wrap;\n",
              "      gap: 12px;\n",
              "    }\n",
              "\n",
              "    .colab-df-convert {\n",
              "      background-color: #E8F0FE;\n",
              "      border: none;\n",
              "      border-radius: 50%;\n",
              "      cursor: pointer;\n",
              "      display: none;\n",
              "      fill: #1967D2;\n",
              "      height: 32px;\n",
              "      padding: 0 0 0 0;\n",
              "      width: 32px;\n",
              "    }\n",
              "\n",
              "    .colab-df-convert:hover {\n",
              "      background-color: #E2EBFA;\n",
              "      box-shadow: 0px 1px 2px rgba(60, 64, 67, 0.3), 0px 1px 3px 1px rgba(60, 64, 67, 0.15);\n",
              "      fill: #174EA6;\n",
              "    }\n",
              "\n",
              "    [theme=dark] .colab-df-convert {\n",
              "      background-color: #3B4455;\n",
              "      fill: #D2E3FC;\n",
              "    }\n",
              "\n",
              "    [theme=dark] .colab-df-convert:hover {\n",
              "      background-color: #434B5C;\n",
              "      box-shadow: 0px 1px 3px 1px rgba(0, 0, 0, 0.15);\n",
              "      filter: drop-shadow(0px 1px 2px rgba(0, 0, 0, 0.3));\n",
              "      fill: #FFFFFF;\n",
              "    }\n",
              "  </style>\n",
              "\n",
              "      <script>\n",
              "        const buttonEl =\n",
              "          document.querySelector('#df-aad4522f-475e-47a2-b3d4-d1418c5710d1 button.colab-df-convert');\n",
              "        buttonEl.style.display =\n",
              "          google.colab.kernel.accessAllowed ? 'block' : 'none';\n",
              "\n",
              "        async function convertToInteractive(key) {\n",
              "          const element = document.querySelector('#df-aad4522f-475e-47a2-b3d4-d1418c5710d1');\n",
              "          const dataTable =\n",
              "            await google.colab.kernel.invokeFunction('convertToInteractive',\n",
              "                                                     [key], {});\n",
              "          if (!dataTable) return;\n",
              "\n",
              "          const docLinkHtml = 'Like what you see? Visit the ' +\n",
              "            '<a target=\"_blank\" href=https://colab.research.google.com/notebooks/data_table.ipynb>data table notebook</a>'\n",
              "            + ' to learn more about interactive tables.';\n",
              "          element.innerHTML = '';\n",
              "          dataTable['output_type'] = 'display_data';\n",
              "          await google.colab.output.renderOutput(dataTable, element);\n",
              "          const docLink = document.createElement('div');\n",
              "          docLink.innerHTML = docLinkHtml;\n",
              "          element.appendChild(docLink);\n",
              "        }\n",
              "      </script>\n",
              "    </div>\n",
              "  </div>\n",
              "  "
            ]
          },
          "metadata": {},
          "execution_count": 5
        }
      ]
    },
    {
      "cell_type": "markdown",
      "source": [
        "Câu 3: Đối với các cột dữ liệu định lượng, hãy áp dụng các phép tính hướng tâm, phép tính phương\n",
        "sai – độ lệch chuẩn, các phép tính phân vị, cực đại – cực tiểu để tính các thông số cơ bản của các\n",
        "cột dữ liệu định lượng này."
      ],
      "metadata": {
        "id": "AYi5-Eqk--az"
      }
    },
    {
      "cell_type": "code",
      "source": [
        "df.info()"
      ],
      "metadata": {
        "colab": {
          "base_uri": "https://localhost:8080/"
        },
        "id": "zpV0IMv769iB",
        "outputId": "6e82d9e6-6fd4-49ca-d632-966b9b2d4da1"
      },
      "execution_count": null,
      "outputs": [
        {
          "output_type": "stream",
          "name": "stdout",
          "text": [
            "<class 'pandas.core.frame.DataFrame'>\n",
            "RangeIndex: 174104 entries, 0 to 174103\n",
            "Data columns (total 66 columns):\n",
            " #   Column                Non-Null Count   Dtype  \n",
            "---  ------                --------------   -----  \n",
            " 0   Record ID             174104 non-null  int64  \n",
            " 1   Incident Year         174104 non-null  int64  \n",
            " 2   Incident Month        174104 non-null  int64  \n",
            " 3   Incident Day          174104 non-null  int64  \n",
            " 4   Operator ID           174104 non-null  object \n",
            " 5   Operator              174104 non-null  object \n",
            " 6   Aircraft              174104 non-null  object \n",
            " 7   Aircraft Type         133074 non-null  object \n",
            " 8   Aircraft Make         131051 non-null  object \n",
            " 9   Aircraft Model        122439 non-null  object \n",
            " 10  Aircraft Mass         127320 non-null  float64\n",
            " 11  Engine Make           123434 non-null  float64\n",
            " 12  Engine Model          121988 non-null  object \n",
            " 13  Engines               127342 non-null  float64\n",
            " 14  Engine Type           127282 non-null  object \n",
            " 15  Engine1 Position      126193 non-null  object \n",
            " 16  Engine2 Position      118715 non-null  float64\n",
            " 17  Engine3 Position      11659 non-null   object \n",
            " 18  Engine4 Position      3092 non-null    float64\n",
            " 19  Airport ID            174104 non-null  object \n",
            " 20  Airport               173814 non-null  object \n",
            " 21  State                 152128 non-null  object \n",
            " 22  FAA Region            155202 non-null  object \n",
            " 23  Warning Issued        76418 non-null   object \n",
            " 24  Flight Phase          118802 non-null  object \n",
            " 25  Visibility            109933 non-null  object \n",
            " 26  Precipitation         88322 non-null   object \n",
            " 27  Height                103677 non-null  float64\n",
            " 28  Speed                 71258 non-null   float64\n",
            " 29  Distance              99713 non-null   float64\n",
            " 30  Species ID            174104 non-null  object \n",
            " 31  Species Name          174024 non-null  object \n",
            " 32  Species Quantity      169627 non-null  object \n",
            " 33  Flight Impact         99465 non-null   object \n",
            " 34  Fatalities            565 non-null     float64\n",
            " 35  Injuries              229 non-null     float64\n",
            " 36  Aircraft Damage       174104 non-null  int64  \n",
            " 37  Radome Strike         174104 non-null  int64  \n",
            " 38  Radome Damage         174104 non-null  int64  \n",
            " 39  Windshield Strike     174104 non-null  int64  \n",
            " 40  Windshield Damage     174104 non-null  int64  \n",
            " 41  Nose Strike           174104 non-null  int64  \n",
            " 42  Nose Damage           174104 non-null  int64  \n",
            " 43  Engine1 Strike        174104 non-null  int64  \n",
            " 44  Engine1 Damage        174104 non-null  int64  \n",
            " 45  Engine2 Strike        174104 non-null  int64  \n",
            " 46  Engine2 Damage        174104 non-null  int64  \n",
            " 47  Engine3 Strike        174104 non-null  int64  \n",
            " 48  Engine3 Damage        174104 non-null  int64  \n",
            " 49  Engine4 Strike        174104 non-null  int64  \n",
            " 50  Engine4 Damage        174104 non-null  int64  \n",
            " 51  Engine Ingested       174104 non-null  int64  \n",
            " 52  Propeller Strike      174104 non-null  int64  \n",
            " 53  Propeller Damage      174104 non-null  int64  \n",
            " 54  Wing or Rotor Strike  174104 non-null  int64  \n",
            " 55  Wing or Rotor Damage  174104 non-null  int64  \n",
            " 56  Fuselage Strike       174104 non-null  int64  \n",
            " 57  Fuselage Damage       174104 non-null  int64  \n",
            " 58  Landing Gear Strike   174104 non-null  int64  \n",
            " 59  Landing Gear Damage   174104 non-null  int64  \n",
            " 60  Tail Strike           174104 non-null  int64  \n",
            " 61  Tail Damage           174104 non-null  int64  \n",
            " 62  Lights Strike         174104 non-null  int64  \n",
            " 63  Lights Damage         174104 non-null  int64  \n",
            " 64  Other Strike          174104 non-null  int64  \n",
            " 65  Other Damage          174104 non-null  int64  \n",
            "dtypes: float64(10), int64(34), object(22)\n",
            "memory usage: 87.7+ MB\n"
          ]
        }
      ]
    },
    {
      "cell_type": "markdown",
      "source": [
        "Xác định các cột định lượng."
      ],
      "metadata": {
        "id": "V8lgqkWi7kvc"
      }
    },
    {
      "cell_type": "code",
      "source": [
        "df_dl = pd.DataFrame(columns = [\"Fatalities\", \"Injuries\", \"Aircraft Damage\", \"Radome Damage\", \"Windshield Damage\", \"Nose Damage\", \"Engine1 Damage\", \"Engine2 Damage\", \"Engine3 Damage\", \"Engine4 Damage\", \"Propeller Damage\", \"Wing or Rotor Damage\", \"Fuselage Damage\", \"Landing Gear Damage\", \"Tail Damage\", \"Lights Damage\", \"Other Damage\"], data = df)"
      ],
      "metadata": {
        "id": "PR3WoxIJ4_QZ"
      },
      "execution_count": null,
      "outputs": []
    },
    {
      "cell_type": "code",
      "source": [
        "df_dl"
      ],
      "metadata": {
        "colab": {
          "base_uri": "https://localhost:8080/",
          "height": 540
        },
        "id": "9Kqmhxu_-pag",
        "outputId": "0aeee2fa-4c0b-4cbb-be82-4ae9e48e6f3f"
      },
      "execution_count": null,
      "outputs": [
        {
          "output_type": "execute_result",
          "data": {
            "text/plain": [
              "        Fatalities  Injuries  Aircraft Damage  Radome Damage  \\\n",
              "0              NaN       NaN                1              1   \n",
              "1              NaN       NaN                0              0   \n",
              "2              NaN       NaN                0              0   \n",
              "3              NaN       NaN                0              0   \n",
              "4              NaN       NaN                0              0   \n",
              "...            ...       ...              ...            ...   \n",
              "174099         NaN       NaN                0              0   \n",
              "174100         NaN       NaN                0              0   \n",
              "174101         NaN       NaN                1              0   \n",
              "174102         NaN       NaN                0              0   \n",
              "174103         NaN       NaN                0              0   \n",
              "\n",
              "        Windshield Damage  Nose Damage  Engine1 Damage  Engine2 Damage  \\\n",
              "0                       0            0               0               0   \n",
              "1                       0            0               0               0   \n",
              "2                       0            0               0               0   \n",
              "3                       0            0               0               0   \n",
              "4                       0            0               0               0   \n",
              "...                   ...          ...             ...             ...   \n",
              "174099                  0            0               0               0   \n",
              "174100                  0            0               0               0   \n",
              "174101                  0            0               0               0   \n",
              "174102                  0            0               0               0   \n",
              "174103                  0            0               0               0   \n",
              "\n",
              "        Engine3 Damage  Engine4 Damage  Propeller Damage  \\\n",
              "0                    0               0                 0   \n",
              "1                    0               0                 0   \n",
              "2                    0               0                 0   \n",
              "3                    0               0                 0   \n",
              "4                    0               0                 0   \n",
              "...                ...             ...               ...   \n",
              "174099               0               0                 0   \n",
              "174100               0               0                 0   \n",
              "174101               0               0                 0   \n",
              "174102               0               0                 0   \n",
              "174103               0               0                 0   \n",
              "\n",
              "        Wing or Rotor Damage  Fuselage Damage  Landing Gear Damage  \\\n",
              "0                          0                0                    0   \n",
              "1                          0                0                    0   \n",
              "2                          0                0                    0   \n",
              "3                          0                0                    0   \n",
              "4                          0                0                    0   \n",
              "...                      ...              ...                  ...   \n",
              "174099                     0                0                    0   \n",
              "174100                     0                0                    0   \n",
              "174101                     0                1                    0   \n",
              "174102                     0                0                    0   \n",
              "174103                     0                0                    0   \n",
              "\n",
              "        Tail Damage  Lights Damage  Other Damage  \n",
              "0                 1              0             0  \n",
              "1                 0              0             0  \n",
              "2                 0              0             0  \n",
              "3                 0              0             0  \n",
              "4                 0              0             0  \n",
              "...             ...            ...           ...  \n",
              "174099            0              0             0  \n",
              "174100            0              0             0  \n",
              "174101            0              0             0  \n",
              "174102            0              0             0  \n",
              "174103            0              0             0  \n",
              "\n",
              "[174104 rows x 17 columns]"
            ],
            "text/html": [
              "\n",
              "  <div id=\"df-1db69ee5-f303-45b2-853f-a270a157c6af\">\n",
              "    <div class=\"colab-df-container\">\n",
              "      <div>\n",
              "<style scoped>\n",
              "    .dataframe tbody tr th:only-of-type {\n",
              "        vertical-align: middle;\n",
              "    }\n",
              "\n",
              "    .dataframe tbody tr th {\n",
              "        vertical-align: top;\n",
              "    }\n",
              "\n",
              "    .dataframe thead th {\n",
              "        text-align: right;\n",
              "    }\n",
              "</style>\n",
              "<table border=\"1\" class=\"dataframe\">\n",
              "  <thead>\n",
              "    <tr style=\"text-align: right;\">\n",
              "      <th></th>\n",
              "      <th>Fatalities</th>\n",
              "      <th>Injuries</th>\n",
              "      <th>Aircraft Damage</th>\n",
              "      <th>Radome Damage</th>\n",
              "      <th>Windshield Damage</th>\n",
              "      <th>Nose Damage</th>\n",
              "      <th>Engine1 Damage</th>\n",
              "      <th>Engine2 Damage</th>\n",
              "      <th>Engine3 Damage</th>\n",
              "      <th>Engine4 Damage</th>\n",
              "      <th>Propeller Damage</th>\n",
              "      <th>Wing or Rotor Damage</th>\n",
              "      <th>Fuselage Damage</th>\n",
              "      <th>Landing Gear Damage</th>\n",
              "      <th>Tail Damage</th>\n",
              "      <th>Lights Damage</th>\n",
              "      <th>Other Damage</th>\n",
              "    </tr>\n",
              "  </thead>\n",
              "  <tbody>\n",
              "    <tr>\n",
              "      <th>0</th>\n",
              "      <td>NaN</td>\n",
              "      <td>NaN</td>\n",
              "      <td>1</td>\n",
              "      <td>1</td>\n",
              "      <td>0</td>\n",
              "      <td>0</td>\n",
              "      <td>0</td>\n",
              "      <td>0</td>\n",
              "      <td>0</td>\n",
              "      <td>0</td>\n",
              "      <td>0</td>\n",
              "      <td>0</td>\n",
              "      <td>0</td>\n",
              "      <td>0</td>\n",
              "      <td>1</td>\n",
              "      <td>0</td>\n",
              "      <td>0</td>\n",
              "    </tr>\n",
              "    <tr>\n",
              "      <th>1</th>\n",
              "      <td>NaN</td>\n",
              "      <td>NaN</td>\n",
              "      <td>0</td>\n",
              "      <td>0</td>\n",
              "      <td>0</td>\n",
              "      <td>0</td>\n",
              "      <td>0</td>\n",
              "      <td>0</td>\n",
              "      <td>0</td>\n",
              "      <td>0</td>\n",
              "      <td>0</td>\n",
              "      <td>0</td>\n",
              "      <td>0</td>\n",
              "      <td>0</td>\n",
              "      <td>0</td>\n",
              "      <td>0</td>\n",
              "      <td>0</td>\n",
              "    </tr>\n",
              "    <tr>\n",
              "      <th>2</th>\n",
              "      <td>NaN</td>\n",
              "      <td>NaN</td>\n",
              "      <td>0</td>\n",
              "      <td>0</td>\n",
              "      <td>0</td>\n",
              "      <td>0</td>\n",
              "      <td>0</td>\n",
              "      <td>0</td>\n",
              "      <td>0</td>\n",
              "      <td>0</td>\n",
              "      <td>0</td>\n",
              "      <td>0</td>\n",
              "      <td>0</td>\n",
              "      <td>0</td>\n",
              "      <td>0</td>\n",
              "      <td>0</td>\n",
              "      <td>0</td>\n",
              "    </tr>\n",
              "    <tr>\n",
              "      <th>3</th>\n",
              "      <td>NaN</td>\n",
              "      <td>NaN</td>\n",
              "      <td>0</td>\n",
              "      <td>0</td>\n",
              "      <td>0</td>\n",
              "      <td>0</td>\n",
              "      <td>0</td>\n",
              "      <td>0</td>\n",
              "      <td>0</td>\n",
              "      <td>0</td>\n",
              "      <td>0</td>\n",
              "      <td>0</td>\n",
              "      <td>0</td>\n",
              "      <td>0</td>\n",
              "      <td>0</td>\n",
              "      <td>0</td>\n",
              "      <td>0</td>\n",
              "    </tr>\n",
              "    <tr>\n",
              "      <th>4</th>\n",
              "      <td>NaN</td>\n",
              "      <td>NaN</td>\n",
              "      <td>0</td>\n",
              "      <td>0</td>\n",
              "      <td>0</td>\n",
              "      <td>0</td>\n",
              "      <td>0</td>\n",
              "      <td>0</td>\n",
              "      <td>0</td>\n",
              "      <td>0</td>\n",
              "      <td>0</td>\n",
              "      <td>0</td>\n",
              "      <td>0</td>\n",
              "      <td>0</td>\n",
              "      <td>0</td>\n",
              "      <td>0</td>\n",
              "      <td>0</td>\n",
              "    </tr>\n",
              "    <tr>\n",
              "      <th>...</th>\n",
              "      <td>...</td>\n",
              "      <td>...</td>\n",
              "      <td>...</td>\n",
              "      <td>...</td>\n",
              "      <td>...</td>\n",
              "      <td>...</td>\n",
              "      <td>...</td>\n",
              "      <td>...</td>\n",
              "      <td>...</td>\n",
              "      <td>...</td>\n",
              "      <td>...</td>\n",
              "      <td>...</td>\n",
              "      <td>...</td>\n",
              "      <td>...</td>\n",
              "      <td>...</td>\n",
              "      <td>...</td>\n",
              "      <td>...</td>\n",
              "    </tr>\n",
              "    <tr>\n",
              "      <th>174099</th>\n",
              "      <td>NaN</td>\n",
              "      <td>NaN</td>\n",
              "      <td>0</td>\n",
              "      <td>0</td>\n",
              "      <td>0</td>\n",
              "      <td>0</td>\n",
              "      <td>0</td>\n",
              "      <td>0</td>\n",
              "      <td>0</td>\n",
              "      <td>0</td>\n",
              "      <td>0</td>\n",
              "      <td>0</td>\n",
              "      <td>0</td>\n",
              "      <td>0</td>\n",
              "      <td>0</td>\n",
              "      <td>0</td>\n",
              "      <td>0</td>\n",
              "    </tr>\n",
              "    <tr>\n",
              "      <th>174100</th>\n",
              "      <td>NaN</td>\n",
              "      <td>NaN</td>\n",
              "      <td>0</td>\n",
              "      <td>0</td>\n",
              "      <td>0</td>\n",
              "      <td>0</td>\n",
              "      <td>0</td>\n",
              "      <td>0</td>\n",
              "      <td>0</td>\n",
              "      <td>0</td>\n",
              "      <td>0</td>\n",
              "      <td>0</td>\n",
              "      <td>0</td>\n",
              "      <td>0</td>\n",
              "      <td>0</td>\n",
              "      <td>0</td>\n",
              "      <td>0</td>\n",
              "    </tr>\n",
              "    <tr>\n",
              "      <th>174101</th>\n",
              "      <td>NaN</td>\n",
              "      <td>NaN</td>\n",
              "      <td>1</td>\n",
              "      <td>0</td>\n",
              "      <td>0</td>\n",
              "      <td>0</td>\n",
              "      <td>0</td>\n",
              "      <td>0</td>\n",
              "      <td>0</td>\n",
              "      <td>0</td>\n",
              "      <td>0</td>\n",
              "      <td>0</td>\n",
              "      <td>1</td>\n",
              "      <td>0</td>\n",
              "      <td>0</td>\n",
              "      <td>0</td>\n",
              "      <td>0</td>\n",
              "    </tr>\n",
              "    <tr>\n",
              "      <th>174102</th>\n",
              "      <td>NaN</td>\n",
              "      <td>NaN</td>\n",
              "      <td>0</td>\n",
              "      <td>0</td>\n",
              "      <td>0</td>\n",
              "      <td>0</td>\n",
              "      <td>0</td>\n",
              "      <td>0</td>\n",
              "      <td>0</td>\n",
              "      <td>0</td>\n",
              "      <td>0</td>\n",
              "      <td>0</td>\n",
              "      <td>0</td>\n",
              "      <td>0</td>\n",
              "      <td>0</td>\n",
              "      <td>0</td>\n",
              "      <td>0</td>\n",
              "    </tr>\n",
              "    <tr>\n",
              "      <th>174103</th>\n",
              "      <td>NaN</td>\n",
              "      <td>NaN</td>\n",
              "      <td>0</td>\n",
              "      <td>0</td>\n",
              "      <td>0</td>\n",
              "      <td>0</td>\n",
              "      <td>0</td>\n",
              "      <td>0</td>\n",
              "      <td>0</td>\n",
              "      <td>0</td>\n",
              "      <td>0</td>\n",
              "      <td>0</td>\n",
              "      <td>0</td>\n",
              "      <td>0</td>\n",
              "      <td>0</td>\n",
              "      <td>0</td>\n",
              "      <td>0</td>\n",
              "    </tr>\n",
              "  </tbody>\n",
              "</table>\n",
              "<p>174104 rows × 17 columns</p>\n",
              "</div>\n",
              "      <button class=\"colab-df-convert\" onclick=\"convertToInteractive('df-1db69ee5-f303-45b2-853f-a270a157c6af')\"\n",
              "              title=\"Convert this dataframe to an interactive table.\"\n",
              "              style=\"display:none;\">\n",
              "        \n",
              "  <svg xmlns=\"http://www.w3.org/2000/svg\" height=\"24px\"viewBox=\"0 0 24 24\"\n",
              "       width=\"24px\">\n",
              "    <path d=\"M0 0h24v24H0V0z\" fill=\"none\"/>\n",
              "    <path d=\"M18.56 5.44l.94 2.06.94-2.06 2.06-.94-2.06-.94-.94-2.06-.94 2.06-2.06.94zm-11 1L8.5 8.5l.94-2.06 2.06-.94-2.06-.94L8.5 2.5l-.94 2.06-2.06.94zm10 10l.94 2.06.94-2.06 2.06-.94-2.06-.94-.94-2.06-.94 2.06-2.06.94z\"/><path d=\"M17.41 7.96l-1.37-1.37c-.4-.4-.92-.59-1.43-.59-.52 0-1.04.2-1.43.59L10.3 9.45l-7.72 7.72c-.78.78-.78 2.05 0 2.83L4 21.41c.39.39.9.59 1.41.59.51 0 1.02-.2 1.41-.59l7.78-7.78 2.81-2.81c.8-.78.8-2.07 0-2.86zM5.41 20L4 18.59l7.72-7.72 1.47 1.35L5.41 20z\"/>\n",
              "  </svg>\n",
              "      </button>\n",
              "      \n",
              "  <style>\n",
              "    .colab-df-container {\n",
              "      display:flex;\n",
              "      flex-wrap:wrap;\n",
              "      gap: 12px;\n",
              "    }\n",
              "\n",
              "    .colab-df-convert {\n",
              "      background-color: #E8F0FE;\n",
              "      border: none;\n",
              "      border-radius: 50%;\n",
              "      cursor: pointer;\n",
              "      display: none;\n",
              "      fill: #1967D2;\n",
              "      height: 32px;\n",
              "      padding: 0 0 0 0;\n",
              "      width: 32px;\n",
              "    }\n",
              "\n",
              "    .colab-df-convert:hover {\n",
              "      background-color: #E2EBFA;\n",
              "      box-shadow: 0px 1px 2px rgba(60, 64, 67, 0.3), 0px 1px 3px 1px rgba(60, 64, 67, 0.15);\n",
              "      fill: #174EA6;\n",
              "    }\n",
              "\n",
              "    [theme=dark] .colab-df-convert {\n",
              "      background-color: #3B4455;\n",
              "      fill: #D2E3FC;\n",
              "    }\n",
              "\n",
              "    [theme=dark] .colab-df-convert:hover {\n",
              "      background-color: #434B5C;\n",
              "      box-shadow: 0px 1px 3px 1px rgba(0, 0, 0, 0.15);\n",
              "      filter: drop-shadow(0px 1px 2px rgba(0, 0, 0, 0.3));\n",
              "      fill: #FFFFFF;\n",
              "    }\n",
              "  </style>\n",
              "\n",
              "      <script>\n",
              "        const buttonEl =\n",
              "          document.querySelector('#df-1db69ee5-f303-45b2-853f-a270a157c6af button.colab-df-convert');\n",
              "        buttonEl.style.display =\n",
              "          google.colab.kernel.accessAllowed ? 'block' : 'none';\n",
              "\n",
              "        async function convertToInteractive(key) {\n",
              "          const element = document.querySelector('#df-1db69ee5-f303-45b2-853f-a270a157c6af');\n",
              "          const dataTable =\n",
              "            await google.colab.kernel.invokeFunction('convertToInteractive',\n",
              "                                                     [key], {});\n",
              "          if (!dataTable) return;\n",
              "\n",
              "          const docLinkHtml = 'Like what you see? Visit the ' +\n",
              "            '<a target=\"_blank\" href=https://colab.research.google.com/notebooks/data_table.ipynb>data table notebook</a>'\n",
              "            + ' to learn more about interactive tables.';\n",
              "          element.innerHTML = '';\n",
              "          dataTable['output_type'] = 'display_data';\n",
              "          await google.colab.output.renderOutput(dataTable, element);\n",
              "          const docLink = document.createElement('div');\n",
              "          docLink.innerHTML = docLinkHtml;\n",
              "          element.appendChild(docLink);\n",
              "        }\n",
              "      </script>\n",
              "    </div>\n",
              "  </div>\n",
              "  "
            ]
          },
          "metadata": {},
          "execution_count": 8
        }
      ]
    },
    {
      "cell_type": "markdown",
      "source": [
        "Áp dụng các phép tính hướng tâm, phép tính phương sai – độ lệch chuẩn, các phép tính phân vị, cực đại – cực tiểu để tính các thông số cơ bản của các cột dữ liệu định lượng."
      ],
      "metadata": {
        "id": "iqLclprC_Klp"
      }
    },
    {
      "cell_type": "code",
      "source": [
        "df_dl.describe()"
      ],
      "metadata": {
        "colab": {
          "base_uri": "https://localhost:8080/",
          "height": 382
        },
        "id": "5qQ4KsK7-wRz",
        "outputId": "20775085-86a2-4c5c-96cc-47b0dc314605"
      },
      "execution_count": null,
      "outputs": [
        {
          "output_type": "execute_result",
          "data": {
            "text/plain": [
              "       Fatalities    Injuries  Aircraft Damage  Radome Damage  \\\n",
              "count  565.000000  229.000000    174104.000000  174104.000000   \n",
              "mean     0.046018    1.746725         0.085977       0.009150   \n",
              "std      0.435164    6.571239         0.280331       0.095216   \n",
              "min      0.000000    1.000000         0.000000       0.000000   \n",
              "25%      0.000000    1.000000         0.000000       0.000000   \n",
              "50%      0.000000    1.000000         0.000000       0.000000   \n",
              "75%      0.000000    1.000000         0.000000       0.000000   \n",
              "max      8.000000  100.000000         1.000000       1.000000   \n",
              "\n",
              "       Windshield Damage    Nose Damage  Engine1 Damage  Engine2 Damage  \\\n",
              "count      174104.000000  174104.000000   174104.000000   174104.000000   \n",
              "mean            0.005956       0.006577        0.014445        0.011619   \n",
              "std             0.076947       0.080829        0.119318        0.107166   \n",
              "min             0.000000       0.000000        0.000000        0.000000   \n",
              "25%             0.000000       0.000000        0.000000        0.000000   \n",
              "50%             0.000000       0.000000        0.000000        0.000000   \n",
              "75%             0.000000       0.000000        0.000000        0.000000   \n",
              "max             1.000000       1.000000        1.000000        1.000000   \n",
              "\n",
              "       Engine3 Damage  Engine4 Damage  Propeller Damage  Wing or Rotor Damage  \\\n",
              "count   174104.000000   174104.000000     174104.000000         174104.000000   \n",
              "mean         0.000971        0.000425          0.003326              0.024009   \n",
              "std          0.031141        0.020612          0.057572              0.153076   \n",
              "min          0.000000        0.000000          0.000000              0.000000   \n",
              "25%          0.000000        0.000000          0.000000              0.000000   \n",
              "50%          0.000000        0.000000          0.000000              0.000000   \n",
              "75%          0.000000        0.000000          0.000000              0.000000   \n",
              "max          1.000000        1.000000          1.000000              1.000000   \n",
              "\n",
              "       Fuselage Damage  Landing Gear Damage    Tail Damage  Lights Damage  \\\n",
              "count    174104.000000        174104.000000  174104.000000  174104.000000   \n",
              "mean          0.004733             0.005813       0.004176       0.004216   \n",
              "std           0.068633             0.076019       0.064485       0.064793   \n",
              "min           0.000000             0.000000       0.000000       0.000000   \n",
              "25%           0.000000             0.000000       0.000000       0.000000   \n",
              "50%           0.000000             0.000000       0.000000       0.000000   \n",
              "75%           0.000000             0.000000       0.000000       0.000000   \n",
              "max           1.000000             1.000000       1.000000       1.000000   \n",
              "\n",
              "        Other Damage  \n",
              "count  174104.000000  \n",
              "mean        0.008989  \n",
              "std         0.094383  \n",
              "min         0.000000  \n",
              "25%         0.000000  \n",
              "50%         0.000000  \n",
              "75%         0.000000  \n",
              "max         1.000000  "
            ],
            "text/html": [
              "\n",
              "  <div id=\"df-04c6ad9b-bd45-4d2b-8413-faedd811ac7a\">\n",
              "    <div class=\"colab-df-container\">\n",
              "      <div>\n",
              "<style scoped>\n",
              "    .dataframe tbody tr th:only-of-type {\n",
              "        vertical-align: middle;\n",
              "    }\n",
              "\n",
              "    .dataframe tbody tr th {\n",
              "        vertical-align: top;\n",
              "    }\n",
              "\n",
              "    .dataframe thead th {\n",
              "        text-align: right;\n",
              "    }\n",
              "</style>\n",
              "<table border=\"1\" class=\"dataframe\">\n",
              "  <thead>\n",
              "    <tr style=\"text-align: right;\">\n",
              "      <th></th>\n",
              "      <th>Fatalities</th>\n",
              "      <th>Injuries</th>\n",
              "      <th>Aircraft Damage</th>\n",
              "      <th>Radome Damage</th>\n",
              "      <th>Windshield Damage</th>\n",
              "      <th>Nose Damage</th>\n",
              "      <th>Engine1 Damage</th>\n",
              "      <th>Engine2 Damage</th>\n",
              "      <th>Engine3 Damage</th>\n",
              "      <th>Engine4 Damage</th>\n",
              "      <th>Propeller Damage</th>\n",
              "      <th>Wing or Rotor Damage</th>\n",
              "      <th>Fuselage Damage</th>\n",
              "      <th>Landing Gear Damage</th>\n",
              "      <th>Tail Damage</th>\n",
              "      <th>Lights Damage</th>\n",
              "      <th>Other Damage</th>\n",
              "    </tr>\n",
              "  </thead>\n",
              "  <tbody>\n",
              "    <tr>\n",
              "      <th>count</th>\n",
              "      <td>565.000000</td>\n",
              "      <td>229.000000</td>\n",
              "      <td>174104.000000</td>\n",
              "      <td>174104.000000</td>\n",
              "      <td>174104.000000</td>\n",
              "      <td>174104.000000</td>\n",
              "      <td>174104.000000</td>\n",
              "      <td>174104.000000</td>\n",
              "      <td>174104.000000</td>\n",
              "      <td>174104.000000</td>\n",
              "      <td>174104.000000</td>\n",
              "      <td>174104.000000</td>\n",
              "      <td>174104.000000</td>\n",
              "      <td>174104.000000</td>\n",
              "      <td>174104.000000</td>\n",
              "      <td>174104.000000</td>\n",
              "      <td>174104.000000</td>\n",
              "    </tr>\n",
              "    <tr>\n",
              "      <th>mean</th>\n",
              "      <td>0.046018</td>\n",
              "      <td>1.746725</td>\n",
              "      <td>0.085977</td>\n",
              "      <td>0.009150</td>\n",
              "      <td>0.005956</td>\n",
              "      <td>0.006577</td>\n",
              "      <td>0.014445</td>\n",
              "      <td>0.011619</td>\n",
              "      <td>0.000971</td>\n",
              "      <td>0.000425</td>\n",
              "      <td>0.003326</td>\n",
              "      <td>0.024009</td>\n",
              "      <td>0.004733</td>\n",
              "      <td>0.005813</td>\n",
              "      <td>0.004176</td>\n",
              "      <td>0.004216</td>\n",
              "      <td>0.008989</td>\n",
              "    </tr>\n",
              "    <tr>\n",
              "      <th>std</th>\n",
              "      <td>0.435164</td>\n",
              "      <td>6.571239</td>\n",
              "      <td>0.280331</td>\n",
              "      <td>0.095216</td>\n",
              "      <td>0.076947</td>\n",
              "      <td>0.080829</td>\n",
              "      <td>0.119318</td>\n",
              "      <td>0.107166</td>\n",
              "      <td>0.031141</td>\n",
              "      <td>0.020612</td>\n",
              "      <td>0.057572</td>\n",
              "      <td>0.153076</td>\n",
              "      <td>0.068633</td>\n",
              "      <td>0.076019</td>\n",
              "      <td>0.064485</td>\n",
              "      <td>0.064793</td>\n",
              "      <td>0.094383</td>\n",
              "    </tr>\n",
              "    <tr>\n",
              "      <th>min</th>\n",
              "      <td>0.000000</td>\n",
              "      <td>1.000000</td>\n",
              "      <td>0.000000</td>\n",
              "      <td>0.000000</td>\n",
              "      <td>0.000000</td>\n",
              "      <td>0.000000</td>\n",
              "      <td>0.000000</td>\n",
              "      <td>0.000000</td>\n",
              "      <td>0.000000</td>\n",
              "      <td>0.000000</td>\n",
              "      <td>0.000000</td>\n",
              "      <td>0.000000</td>\n",
              "      <td>0.000000</td>\n",
              "      <td>0.000000</td>\n",
              "      <td>0.000000</td>\n",
              "      <td>0.000000</td>\n",
              "      <td>0.000000</td>\n",
              "    </tr>\n",
              "    <tr>\n",
              "      <th>25%</th>\n",
              "      <td>0.000000</td>\n",
              "      <td>1.000000</td>\n",
              "      <td>0.000000</td>\n",
              "      <td>0.000000</td>\n",
              "      <td>0.000000</td>\n",
              "      <td>0.000000</td>\n",
              "      <td>0.000000</td>\n",
              "      <td>0.000000</td>\n",
              "      <td>0.000000</td>\n",
              "      <td>0.000000</td>\n",
              "      <td>0.000000</td>\n",
              "      <td>0.000000</td>\n",
              "      <td>0.000000</td>\n",
              "      <td>0.000000</td>\n",
              "      <td>0.000000</td>\n",
              "      <td>0.000000</td>\n",
              "      <td>0.000000</td>\n",
              "    </tr>\n",
              "    <tr>\n",
              "      <th>50%</th>\n",
              "      <td>0.000000</td>\n",
              "      <td>1.000000</td>\n",
              "      <td>0.000000</td>\n",
              "      <td>0.000000</td>\n",
              "      <td>0.000000</td>\n",
              "      <td>0.000000</td>\n",
              "      <td>0.000000</td>\n",
              "      <td>0.000000</td>\n",
              "      <td>0.000000</td>\n",
              "      <td>0.000000</td>\n",
              "      <td>0.000000</td>\n",
              "      <td>0.000000</td>\n",
              "      <td>0.000000</td>\n",
              "      <td>0.000000</td>\n",
              "      <td>0.000000</td>\n",
              "      <td>0.000000</td>\n",
              "      <td>0.000000</td>\n",
              "    </tr>\n",
              "    <tr>\n",
              "      <th>75%</th>\n",
              "      <td>0.000000</td>\n",
              "      <td>1.000000</td>\n",
              "      <td>0.000000</td>\n",
              "      <td>0.000000</td>\n",
              "      <td>0.000000</td>\n",
              "      <td>0.000000</td>\n",
              "      <td>0.000000</td>\n",
              "      <td>0.000000</td>\n",
              "      <td>0.000000</td>\n",
              "      <td>0.000000</td>\n",
              "      <td>0.000000</td>\n",
              "      <td>0.000000</td>\n",
              "      <td>0.000000</td>\n",
              "      <td>0.000000</td>\n",
              "      <td>0.000000</td>\n",
              "      <td>0.000000</td>\n",
              "      <td>0.000000</td>\n",
              "    </tr>\n",
              "    <tr>\n",
              "      <th>max</th>\n",
              "      <td>8.000000</td>\n",
              "      <td>100.000000</td>\n",
              "      <td>1.000000</td>\n",
              "      <td>1.000000</td>\n",
              "      <td>1.000000</td>\n",
              "      <td>1.000000</td>\n",
              "      <td>1.000000</td>\n",
              "      <td>1.000000</td>\n",
              "      <td>1.000000</td>\n",
              "      <td>1.000000</td>\n",
              "      <td>1.000000</td>\n",
              "      <td>1.000000</td>\n",
              "      <td>1.000000</td>\n",
              "      <td>1.000000</td>\n",
              "      <td>1.000000</td>\n",
              "      <td>1.000000</td>\n",
              "      <td>1.000000</td>\n",
              "    </tr>\n",
              "  </tbody>\n",
              "</table>\n",
              "</div>\n",
              "      <button class=\"colab-df-convert\" onclick=\"convertToInteractive('df-04c6ad9b-bd45-4d2b-8413-faedd811ac7a')\"\n",
              "              title=\"Convert this dataframe to an interactive table.\"\n",
              "              style=\"display:none;\">\n",
              "        \n",
              "  <svg xmlns=\"http://www.w3.org/2000/svg\" height=\"24px\"viewBox=\"0 0 24 24\"\n",
              "       width=\"24px\">\n",
              "    <path d=\"M0 0h24v24H0V0z\" fill=\"none\"/>\n",
              "    <path d=\"M18.56 5.44l.94 2.06.94-2.06 2.06-.94-2.06-.94-.94-2.06-.94 2.06-2.06.94zm-11 1L8.5 8.5l.94-2.06 2.06-.94-2.06-.94L8.5 2.5l-.94 2.06-2.06.94zm10 10l.94 2.06.94-2.06 2.06-.94-2.06-.94-.94-2.06-.94 2.06-2.06.94z\"/><path d=\"M17.41 7.96l-1.37-1.37c-.4-.4-.92-.59-1.43-.59-.52 0-1.04.2-1.43.59L10.3 9.45l-7.72 7.72c-.78.78-.78 2.05 0 2.83L4 21.41c.39.39.9.59 1.41.59.51 0 1.02-.2 1.41-.59l7.78-7.78 2.81-2.81c.8-.78.8-2.07 0-2.86zM5.41 20L4 18.59l7.72-7.72 1.47 1.35L5.41 20z\"/>\n",
              "  </svg>\n",
              "      </button>\n",
              "      \n",
              "  <style>\n",
              "    .colab-df-container {\n",
              "      display:flex;\n",
              "      flex-wrap:wrap;\n",
              "      gap: 12px;\n",
              "    }\n",
              "\n",
              "    .colab-df-convert {\n",
              "      background-color: #E8F0FE;\n",
              "      border: none;\n",
              "      border-radius: 50%;\n",
              "      cursor: pointer;\n",
              "      display: none;\n",
              "      fill: #1967D2;\n",
              "      height: 32px;\n",
              "      padding: 0 0 0 0;\n",
              "      width: 32px;\n",
              "    }\n",
              "\n",
              "    .colab-df-convert:hover {\n",
              "      background-color: #E2EBFA;\n",
              "      box-shadow: 0px 1px 2px rgba(60, 64, 67, 0.3), 0px 1px 3px 1px rgba(60, 64, 67, 0.15);\n",
              "      fill: #174EA6;\n",
              "    }\n",
              "\n",
              "    [theme=dark] .colab-df-convert {\n",
              "      background-color: #3B4455;\n",
              "      fill: #D2E3FC;\n",
              "    }\n",
              "\n",
              "    [theme=dark] .colab-df-convert:hover {\n",
              "      background-color: #434B5C;\n",
              "      box-shadow: 0px 1px 3px 1px rgba(0, 0, 0, 0.15);\n",
              "      filter: drop-shadow(0px 1px 2px rgba(0, 0, 0, 0.3));\n",
              "      fill: #FFFFFF;\n",
              "    }\n",
              "  </style>\n",
              "\n",
              "      <script>\n",
              "        const buttonEl =\n",
              "          document.querySelector('#df-04c6ad9b-bd45-4d2b-8413-faedd811ac7a button.colab-df-convert');\n",
              "        buttonEl.style.display =\n",
              "          google.colab.kernel.accessAllowed ? 'block' : 'none';\n",
              "\n",
              "        async function convertToInteractive(key) {\n",
              "          const element = document.querySelector('#df-04c6ad9b-bd45-4d2b-8413-faedd811ac7a');\n",
              "          const dataTable =\n",
              "            await google.colab.kernel.invokeFunction('convertToInteractive',\n",
              "                                                     [key], {});\n",
              "          if (!dataTable) return;\n",
              "\n",
              "          const docLinkHtml = 'Like what you see? Visit the ' +\n",
              "            '<a target=\"_blank\" href=https://colab.research.google.com/notebooks/data_table.ipynb>data table notebook</a>'\n",
              "            + ' to learn more about interactive tables.';\n",
              "          element.innerHTML = '';\n",
              "          dataTable['output_type'] = 'display_data';\n",
              "          await google.colab.output.renderOutput(dataTable, element);\n",
              "          const docLink = document.createElement('div');\n",
              "          docLink.innerHTML = docLinkHtml;\n",
              "          element.appendChild(docLink);\n",
              "        }\n",
              "      </script>\n",
              "    </div>\n",
              "  </div>\n",
              "  "
            ]
          },
          "metadata": {},
          "execution_count": 9
        }
      ]
    },
    {
      "cell_type": "markdown",
      "source": [
        "Câu 4: Hãy vẽ biểu đồ boxplot cho từng cột dữ liệu định lượng và xác định xem có xuất hiện các\n",
        "ngoại lệ không?nếu có thì ở cột nào?"
      ],
      "metadata": {
        "id": "Upc2BWr-AQxl"
      }
    },
    {
      "cell_type": "code",
      "source": [
        "#Vẽ biểu đồ boxplot cho engines.\n",
        "df_dl.boxplot(['Fatalities']);"
      ],
      "metadata": {
        "colab": {
          "base_uri": "https://localhost:8080/",
          "height": 265
        },
        "id": "FrhOJw4c-39e",
        "outputId": "3ea29b42-546b-4255-f9d8-5e287022a4cf"
      },
      "execution_count": null,
      "outputs": [
        {
          "output_type": "display_data",
          "data": {
            "text/plain": [
              "<Figure size 432x288 with 1 Axes>"
            ],
            "image/png": "[encoded data removed]"
          },
          "metadata": {
            "needs_background": "light"
          }
        }
      ]
    },
    {
      "cell_type": "code",
      "source": [
        "#Vẽ biểu đồ boxplot cho Injuries.\n",
        "df_dl.boxplot([\"Injuries\"])"
      ],
      "metadata": {
        "colab": {
          "base_uri": "https://localhost:8080/",
          "height": 282
        },
        "id": "-VrF7Uf-As8_",
        "outputId": "455b2e63-ab2e-483a-c3ae-ec091db2df9a"
      },
      "execution_count": null,
      "outputs": [
        {
          "output_type": "execute_result",
          "data": {
            "text/plain": [
              "<matplotlib.axes._subplots.AxesSubplot at 0x7f1b6115f190>"
            ]
          },
          "metadata": {},
          "execution_count": 22
        },
        {
          "output_type": "display_data",
          "data": {
            "text/plain": [
              "<Figure size 432x288 with 1 Axes>"
            ],
            "image/png": "[encoded data removed]"
          },
          "metadata": {
            "needs_background": "light"
          }
        }
      ]
    },
    {
      "cell_type": "code",
      "source": [
        "#Vẽ biểu đồ boxplot cho Aircraft Damage.\n",
        "df_dl.boxplot([\"Aircraft Damage\"])"
      ],
      "metadata": {
        "colab": {
          "base_uri": "https://localhost:8080/",
          "height": 282
        },
        "id": "ObrmDbM_BC2c",
        "outputId": "09ae80d3-7896-4259-9f90-cf434dfe9324"
      },
      "execution_count": null,
      "outputs": [
        {
          "output_type": "execute_result",
          "data": {
            "text/plain": [
              "<matplotlib.axes._subplots.AxesSubplot at 0x7f1b6114c9d0>"
            ]
          },
          "metadata": {},
          "execution_count": 23
        },
        {
          "output_type": "display_data",
          "data": {
            "text/plain": [
              "<Figure size 432x288 with 1 Axes>"
            ],
            "image/png": "[encoded data removed]"
          },
          "metadata": {
            "needs_background": "light"
          }
        }
      ]
    },
    {
      "cell_type": "code",
      "source": [
        "#Vẽ biểu đồ boxplot cho Radome Damage.\n",
        "df_dl.boxplot([\"Radome Damage\"])"
      ],
      "metadata": {
        "colab": {
          "base_uri": "https://localhost:8080/",
          "height": 282
        },
        "id": "hbsf56NHBGfK",
        "outputId": "9c9b19cb-c6b4-4832-d1c5-a6cedf68f386"
      },
      "execution_count": null,
      "outputs": [
        {
          "output_type": "execute_result",
          "data": {
            "text/plain": [
              "<matplotlib.axes._subplots.AxesSubplot at 0x7f1b610ba450>"
            ]
          },
          "metadata": {},
          "execution_count": 24
        },
        {
          "output_type": "display_data",
          "data": {
            "text/plain": [
              "<Figure size 432x288 with 1 Axes>"
            ],
            "image/png": "[encoded data removed]"
          },
          "metadata": {
            "needs_background": "light"
          }
        }
      ]
    },
    {
      "cell_type": "code",
      "source": [
        "#Vẽ biểu đồ boxplot cho Windshield Damage.\n",
        "df_dl.boxplot([\"Windshield Damage\"])"
      ],
      "metadata": {
        "colab": {
          "base_uri": "https://localhost:8080/",
          "height": 282
        },
        "id": "K-ai-MssBLn8",
        "outputId": "8f4cc7d9-b6a1-430d-b8ba-005f4d74ea8d"
      },
      "execution_count": null,
      "outputs": [
        {
          "output_type": "execute_result",
          "data": {
            "text/plain": [
              "<matplotlib.axes._subplots.AxesSubplot at 0x7f1b61030e50>"
            ]
          },
          "metadata": {},
          "execution_count": 25
        },
        {
          "output_type": "display_data",
          "data": {
            "text/plain": [
              "<Figure size 432x288 with 1 Axes>"
            ],
            "image/png": "[encoded data removed]"
          },
          "metadata": {
            "needs_background": "light"
          }
        }
      ]
    },
    {
      "cell_type": "code",
      "source": [
        "#Vẽ biểu đồ boxplot cho Nose Damage.\n",
        "df_dl.boxplot([\"Nose Damage\"])"
      ],
      "metadata": {
        "colab": {
          "base_uri": "https://localhost:8080/",
          "height": 282
        },
        "id": "7vYNshx1BUuq",
        "outputId": "168dab09-b1ee-4a40-f490-3da0d33909a0"
      },
      "execution_count": null,
      "outputs": [
        {
          "output_type": "execute_result",
          "data": {
            "text/plain": [
              "<matplotlib.axes._subplots.AxesSubplot at 0x7f1b60fa1fd0>"
            ]
          },
          "metadata": {},
          "execution_count": 26
        },
        {
          "output_type": "display_data",
          "data": {
            "text/plain": [
              "<Figure size 432x288 with 1 Axes>"
            ],
            "image/png": "[encoded data removed]"
          },
          "metadata": {
            "needs_background": "light"
          }
        }
      ]
    },
    {
      "cell_type": "code",
      "source": [
        "#Vẽ biểu đồ boxplot cho Engine1 Damage.\n",
        "df_dl.boxplot([\"Engine1 Damage\"])"
      ],
      "metadata": {
        "colab": {
          "base_uri": "https://localhost:8080/",
          "height": 282
        },
        "id": "oTvykQ83BduF",
        "outputId": "76e2c46a-6b8b-4016-cc72-5736d2e46b4c"
      },
      "execution_count": null,
      "outputs": [
        {
          "output_type": "execute_result",
          "data": {
            "text/plain": [
              "<matplotlib.axes._subplots.AxesSubplot at 0x7f1b60f93f90>"
            ]
          },
          "metadata": {},
          "execution_count": 27
        },
        {
          "output_type": "display_data",
          "data": {
            "text/plain": [
              "<Figure size 432x288 with 1 Axes>"
            ],
            "image/png": "[encoded data removed]"
          },
          "metadata": {
            "needs_background": "light"
          }
        }
      ]
    },
    {
      "cell_type": "code",
      "source": [
        "#Vẽ biểu đồ boxplot cho Engine2 Damage.\n",
        "df_dl.boxplot([\"Engine2 Damage\"])"
      ],
      "metadata": {
        "colab": {
          "base_uri": "https://localhost:8080/",
          "height": 282
        },
        "id": "DbMIRaWMBiyM",
        "outputId": "ca06bf53-f349-41c3-b66a-a23a9db87b60"
      },
      "execution_count": null,
      "outputs": [
        {
          "output_type": "execute_result",
          "data": {
            "text/plain": [
              "<matplotlib.axes._subplots.AxesSubplot at 0x7f1b6101e210>"
            ]
          },
          "metadata": {},
          "execution_count": 29
        },
        {
          "output_type": "display_data",
          "data": {
            "text/plain": [
              "<Figure size 432x288 with 1 Axes>"
            ],
            "image/png": "[encoded data removed]"
          },
          "metadata": {
            "needs_background": "light"
          }
        }
      ]
    },
    {
      "cell_type": "code",
      "source": [
        "#Vẽ biểu đồ boxplot cho Engine3 Damage.\n",
        "df_dl.boxplot([\"Engine3 Damage\"])"
      ],
      "metadata": {
        "colab": {
          "base_uri": "https://localhost:8080/",
          "height": 282
        },
        "id": "STHurP6jBsXm",
        "outputId": "0b5d919b-4713-496b-8774-d61f06bdfecd"
      },
      "execution_count": null,
      "outputs": [
        {
          "output_type": "execute_result",
          "data": {
            "text/plain": [
              "<matplotlib.axes._subplots.AxesSubplot at 0x7f1b60e37890>"
            ]
          },
          "metadata": {},
          "execution_count": 30
        },
        {
          "output_type": "display_data",
          "data": {
            "text/plain": [
              "<Figure size 432x288 with 1 Axes>"
            ],
            "image/png": "[encoded data removed]"
          },
          "metadata": {
            "needs_background": "light"
          }
        }
      ]
    },
    {
      "cell_type": "code",
      "source": [
        "#Vẽ biểu đồ boxplot cho Engine4 Damage.\n",
        "df_dl.boxplot([\"Engine4 Damage\"])"
      ],
      "metadata": {
        "colab": {
          "base_uri": "https://localhost:8080/",
          "height": 282
        },
        "id": "0SXIpsp8BuF3",
        "outputId": "48469cdf-14ac-4bc9-a9f8-2a313ecb4484"
      },
      "execution_count": null,
      "outputs": [
        {
          "output_type": "execute_result",
          "data": {
            "text/plain": [
              "<matplotlib.axes._subplots.AxesSubplot at 0x7f1b60dae610>"
            ]
          },
          "metadata": {},
          "execution_count": 31
        },
        {
          "output_type": "display_data",
          "data": {
            "text/plain": [
              "<Figure size 432x288 with 1 Axes>"
            ],
            "image/png": "[encoded data removed]"
          },
          "metadata": {
            "needs_background": "light"
          }
        }
      ]
    },
    {
      "cell_type": "code",
      "source": [
        "#Vẽ biểu đồ boxplot cho Propeller Damage.\n",
        "df_dl.boxplot([\"Propeller Damage\"])"
      ],
      "metadata": {
        "colab": {
          "base_uri": "https://localhost:8080/",
          "height": 282
        },
        "id": "LNh8EynrBvnS",
        "outputId": "6f8e87f6-92e4-4e5d-93b2-a512c4a315af"
      },
      "execution_count": null,
      "outputs": [
        {
          "output_type": "execute_result",
          "data": {
            "text/plain": [
              "<matplotlib.axes._subplots.AxesSubplot at 0x7f1b60d26410>"
            ]
          },
          "metadata": {},
          "execution_count": 32
        },
        {
          "output_type": "display_data",
          "data": {
            "text/plain": [
              "<Figure size 432x288 with 1 Axes>"
            ],
            "image/png": "[encoded data removed]"
          },
          "metadata": {
            "needs_background": "light"
          }
        }
      ]
    },
    {
      "cell_type": "code",
      "source": [
        "  #Vẽ biểu đồ boxplot cho Wing or Rotor Damage.\n",
        "  df_dl.boxplot([\"Wing or Rotor Damage\"])"
      ],
      "metadata": {
        "colab": {
          "base_uri": "https://localhost:8080/",
          "height": 282
        },
        "id": "L5wicLUrBzR1",
        "outputId": "3b7ed3c4-76a6-4cf0-9dc4-e88ce66db314"
      },
      "execution_count": null,
      "outputs": [
        {
          "output_type": "execute_result",
          "data": {
            "text/plain": [
              "<matplotlib.axes._subplots.AxesSubplot at 0x7f1b60c9d350>"
            ]
          },
          "metadata": {},
          "execution_count": 34
        },
        {
          "output_type": "display_data",
          "data": {
            "text/plain": [
              "<Figure size 432x288 with 1 Axes>"
            ],
            "image/png": "[encoded data removed]"
          },
          "metadata": {
            "needs_background": "light"
          }
        }
      ]
    },
    {
      "cell_type": "code",
      "source": [
        "#Vẽ biểu đồ boxplot cho Fuselage Damage.\n",
        "df_dl.boxplot([\"Fuselage Damage\"])"
      ],
      "metadata": {
        "colab": {
          "base_uri": "https://localhost:8080/",
          "height": 282
        },
        "id": "JFmge4Y6B5Zc",
        "outputId": "ca5685b5-95ad-4280-c703-90551a094921"
      },
      "execution_count": null,
      "outputs": [
        {
          "output_type": "execute_result",
          "data": {
            "text/plain": [
              "<matplotlib.axes._subplots.AxesSubplot at 0x7f1b60c94990>"
            ]
          },
          "metadata": {},
          "execution_count": 35
        },
        {
          "output_type": "display_data",
          "data": {
            "text/plain": [
              "<Figure size 432x288 with 1 Axes>"
            ],
            "image/png": "[encoded data removed]"
          },
          "metadata": {
            "needs_background": "light"
          }
        }
      ]
    },
    {
      "cell_type": "code",
      "source": [
        "#Vẽ biểu đồ boxplot cho Landing Gear Damage.\n",
        "df_dl.boxplot([\"Landing Gear Damage\"])"
      ],
      "metadata": {
        "colab": {
          "base_uri": "https://localhost:8080/",
          "height": 282
        },
        "id": "QtcaLFYnCDZN",
        "outputId": "111a07de-3b8b-4382-f535-ea3cfc5fd59b"
      },
      "execution_count": null,
      "outputs": [
        {
          "output_type": "execute_result",
          "data": {
            "text/plain": [
              "<matplotlib.axes._subplots.AxesSubplot at 0x7f1b60c90510>"
            ]
          },
          "metadata": {},
          "execution_count": 36
        },
        {
          "output_type": "display_data",
          "data": {
            "text/plain": [
              "<Figure size 432x288 with 1 Axes>"
            ],
            "image/png": "[encoded data removed]"
          },
          "metadata": {
            "needs_background": "light"
          }
        }
      ]
    },
    {
      "cell_type": "code",
      "source": [
        "#Vẽ biểu đồ boxplot cho Tail Damage.\n",
        "df_dl.boxplot([\"Tail Damage\"])"
      ],
      "metadata": {
        "colab": {
          "base_uri": "https://localhost:8080/",
          "height": 282
        },
        "id": "Zf6wx6OSCI3v",
        "outputId": "6ed8c66c-5b02-4a2b-c35e-e07a3cb882e9"
      },
      "execution_count": null,
      "outputs": [
        {
          "output_type": "execute_result",
          "data": {
            "text/plain": [
              "<matplotlib.axes._subplots.AxesSubplot at 0x7f1b60937750>"
            ]
          },
          "metadata": {},
          "execution_count": 42
        },
        {
          "output_type": "display_data",
          "data": {
            "text/plain": [
              "<Figure size 432x288 with 1 Axes>"
            ],
            "image/png": "[encoded data removed]"
          },
          "metadata": {
            "needs_background": "light"
          }
        }
      ]
    },
    {
      "cell_type": "code",
      "source": [
        "#Vẽ biểu đồ boxplot cho Lights Damage.\n",
        "df_dl.boxplot([\"Lights Damage\"])"
      ],
      "metadata": {
        "colab": {
          "base_uri": "https://localhost:8080/",
          "height": 282
        },
        "id": "DTh2acFYCQA7",
        "outputId": "7c918eac-24df-4193-92d3-26322e044404"
      },
      "execution_count": null,
      "outputs": [
        {
          "output_type": "execute_result",
          "data": {
            "text/plain": [
              "<matplotlib.axes._subplots.AxesSubplot at 0x7f1b60b0f710>"
            ]
          },
          "metadata": {},
          "execution_count": 38
        },
        {
          "output_type": "display_data",
          "data": {
            "text/plain": [
              "<Figure size 432x288 with 1 Axes>"
            ],
            "image/png": "[encoded data removed]"
          },
          "metadata": {
            "needs_background": "light"
          }
        }
      ]
    },
    {
      "cell_type": "code",
      "source": [
        "#Vẽ biểu đồ boxplot cho Other Damage.\n",
        "df_dl.boxplot([\"Other Damage\"])"
      ],
      "metadata": {
        "colab": {
          "base_uri": "https://localhost:8080/",
          "height": 282
        },
        "id": "8aCjAonACUsm",
        "outputId": "9eac69a9-3128-4233-ac81-721c8f882f24"
      },
      "execution_count": null,
      "outputs": [
        {
          "output_type": "execute_result",
          "data": {
            "text/plain": [
              "<matplotlib.axes._subplots.AxesSubplot at 0x7f1b60a86d90>"
            ]
          },
          "metadata": {},
          "execution_count": 39
        },
        {
          "output_type": "display_data",
          "data": {
            "text/plain": [
              "<Figure size 432x288 with 1 Axes>"
            ],
            "image/png": "[encoded data removed]"
          },
          "metadata": {
            "needs_background": "light"
          }
        }
      ]
    },
    {
      "cell_type": "markdown",
      "source": [
        "Kết luận rằng : Cột dữ liệu Fatalities, Injuries có xuất hiện các giá trị ngoại lệ."
      ],
      "metadata": {
        "id": "nEIkhi8hCfpu"
      }
    },
    {
      "cell_type": "markdown",
      "source": [
        "Câu 5: Người ta thường sử dụng chỉ số z (hay z-score) để xác định giá trị ngoại lệ (outlier). Bạn hãy loại bỏ các hàng có chứa giá trị ngoại lệ ra khỏi dataframe.\n",
        "\n",
        "Gợi ý: sử dụng chỉ số z hoặc hàm tính phân vị (quantile)"
      ],
      "metadata": {
        "id": "FWYt-KjauAJ9"
      }
    },
    {
      "cell_type": "code",
      "source": [
        "for i in [\"Fatalities\", \"Injuries\"]:\n",
        "  mean = df[i].mean()\n",
        "  df[i] = df[i].fillna(mean)"
      ],
      "metadata": {
        "id": "9wRKV5gQCaoR"
      },
      "execution_count": null,
      "outputs": []
    },
    {
      "cell_type": "code",
      "source": [
        "df_z=  df[[\"Fatalities\", \"Injuries\"]]\n",
        "z_scores = np.abs(st.zscore(df_z))\n",
        "df_z = df_z[(z_scores < 3).all(axis=1)]"
      ],
      "metadata": {
        "id": "1Kj1RNqADGp2"
      },
      "execution_count": null,
      "outputs": []
    },
    {
      "cell_type": "markdown",
      "source": [
        "Câu 6: Thực hiện lại câu 3 – 4 với tập dữ liệu sau khi đã loại bỏ ngoại lệ."
      ],
      "metadata": {
        "id": "DZuzcR9v4g4s"
      }
    },
    {
      "cell_type": "code",
      "source": [
        "df_z.describe()"
      ],
      "metadata": {
        "colab": {
          "base_uri": "https://localhost:8080/",
          "height": 300
        },
        "id": "KNTNyocP4haj",
        "outputId": "db31466d-ae33-4287-a3f6-4d140a6ce689"
      },
      "execution_count": null,
      "outputs": [
        {
          "output_type": "execute_result",
          "data": {
            "text/plain": [
              "          Fatalities       Injuries\n",
              "count  173906.000000  173906.000000\n",
              "mean        0.045871       1.746786\n",
              "std         0.002591       0.003936\n",
              "min         0.000000       1.746725\n",
              "25%         0.046018       1.746725\n",
              "50%         0.046018       1.746725\n",
              "75%         0.046018       1.746725\n",
              "max         0.046018       2.000000"
            ],
            "text/html": [
              "\n",
              "  <div id=\"df-6f047687-c3cf-4897-b5d3-e8f1cf659c24\">\n",
              "    <div class=\"colab-df-container\">\n",
              "      <div>\n",
              "<style scoped>\n",
              "    .dataframe tbody tr th:only-of-type {\n",
              "        vertical-align: middle;\n",
              "    }\n",
              "\n",
              "    .dataframe tbody tr th {\n",
              "        vertical-align: top;\n",
              "    }\n",
              "\n",
              "    .dataframe thead th {\n",
              "        text-align: right;\n",
              "    }\n",
              "</style>\n",
              "<table border=\"1\" class=\"dataframe\">\n",
              "  <thead>\n",
              "    <tr style=\"text-align: right;\">\n",
              "      <th></th>\n",
              "      <th>Fatalities</th>\n",
              "      <th>Injuries</th>\n",
              "    </tr>\n",
              "  </thead>\n",
              "  <tbody>\n",
              "    <tr>\n",
              "      <th>count</th>\n",
              "      <td>173906.000000</td>\n",
              "      <td>173906.000000</td>\n",
              "    </tr>\n",
              "    <tr>\n",
              "      <th>mean</th>\n",
              "      <td>0.045871</td>\n",
              "      <td>1.746786</td>\n",
              "    </tr>\n",
              "    <tr>\n",
              "      <th>std</th>\n",
              "      <td>0.002591</td>\n",
              "      <td>0.003936</td>\n",
              "    </tr>\n",
              "    <tr>\n",
              "      <th>min</th>\n",
              "      <td>0.000000</td>\n",
              "      <td>1.746725</td>\n",
              "    </tr>\n",
              "    <tr>\n",
              "      <th>25%</th>\n",
              "      <td>0.046018</td>\n",
              "      <td>1.746725</td>\n",
              "    </tr>\n",
              "    <tr>\n",
              "      <th>50%</th>\n",
              "      <td>0.046018</td>\n",
              "      <td>1.746725</td>\n",
              "    </tr>\n",
              "    <tr>\n",
              "      <th>75%</th>\n",
              "      <td>0.046018</td>\n",
              "      <td>1.746725</td>\n",
              "    </tr>\n",
              "    <tr>\n",
              "      <th>max</th>\n",
              "      <td>0.046018</td>\n",
              "      <td>2.000000</td>\n",
              "    </tr>\n",
              "  </tbody>\n",
              "</table>\n",
              "</div>\n",
              "      <button class=\"colab-df-convert\" onclick=\"convertToInteractive('df-6f047687-c3cf-4897-b5d3-e8f1cf659c24')\"\n",
              "              title=\"Convert this dataframe to an interactive table.\"\n",
              "              style=\"display:none;\">\n",
              "        \n",
              "  <svg xmlns=\"http://www.w3.org/2000/svg\" height=\"24px\"viewBox=\"0 0 24 24\"\n",
              "       width=\"24px\">\n",
              "    <path d=\"M0 0h24v24H0V0z\" fill=\"none\"/>\n",
              "    <path d=\"M18.56 5.44l.94 2.06.94-2.06 2.06-.94-2.06-.94-.94-2.06-.94 2.06-2.06.94zm-11 1L8.5 8.5l.94-2.06 2.06-.94-2.06-.94L8.5 2.5l-.94 2.06-2.06.94zm10 10l.94 2.06.94-2.06 2.06-.94-2.06-.94-.94-2.06-.94 2.06-2.06.94z\"/><path d=\"M17.41 7.96l-1.37-1.37c-.4-.4-.92-.59-1.43-.59-.52 0-1.04.2-1.43.59L10.3 9.45l-7.72 7.72c-.78.78-.78 2.05 0 2.83L4 21.41c.39.39.9.59 1.41.59.51 0 1.02-.2 1.41-.59l7.78-7.78 2.81-2.81c.8-.78.8-2.07 0-2.86zM5.41 20L4 18.59l7.72-7.72 1.47 1.35L5.41 20z\"/>\n",
              "  </svg>\n",
              "      </button>\n",
              "      \n",
              "  <style>\n",
              "    .colab-df-container {\n",
              "      display:flex;\n",
              "      flex-wrap:wrap;\n",
              "      gap: 12px;\n",
              "    }\n",
              "\n",
              "    .colab-df-convert {\n",
              "      background-color: #E8F0FE;\n",
              "      border: none;\n",
              "      border-radius: 50%;\n",
              "      cursor: pointer;\n",
              "      display: none;\n",
              "      fill: #1967D2;\n",
              "      height: 32px;\n",
              "      padding: 0 0 0 0;\n",
              "      width: 32px;\n",
              "    }\n",
              "\n",
              "    .colab-df-convert:hover {\n",
              "      background-color: #E2EBFA;\n",
              "      box-shadow: 0px 1px 2px rgba(60, 64, 67, 0.3), 0px 1px 3px 1px rgba(60, 64, 67, 0.15);\n",
              "      fill: #174EA6;\n",
              "    }\n",
              "\n",
              "    [theme=dark] .colab-df-convert {\n",
              "      background-color: #3B4455;\n",
              "      fill: #D2E3FC;\n",
              "    }\n",
              "\n",
              "    [theme=dark] .colab-df-convert:hover {\n",
              "      background-color: #434B5C;\n",
              "      box-shadow: 0px 1px 3px 1px rgba(0, 0, 0, 0.15);\n",
              "      filter: drop-shadow(0px 1px 2px rgba(0, 0, 0, 0.3));\n",
              "      fill: #FFFFFF;\n",
              "    }\n",
              "  </style>\n",
              "\n",
              "      <script>\n",
              "        const buttonEl =\n",
              "          document.querySelector('#df-6f047687-c3cf-4897-b5d3-e8f1cf659c24 button.colab-df-convert');\n",
              "        buttonEl.style.display =\n",
              "          google.colab.kernel.accessAllowed ? 'block' : 'none';\n",
              "\n",
              "        async function convertToInteractive(key) {\n",
              "          const element = document.querySelector('#df-6f047687-c3cf-4897-b5d3-e8f1cf659c24');\n",
              "          const dataTable =\n",
              "            await google.colab.kernel.invokeFunction('convertToInteractive',\n",
              "                                                     [key], {});\n",
              "          if (!dataTable) return;\n",
              "\n",
              "          const docLinkHtml = 'Like what you see? Visit the ' +\n",
              "            '<a target=\"_blank\" href=https://colab.research.google.com/notebooks/data_table.ipynb>data table notebook</a>'\n",
              "            + ' to learn more about interactive tables.';\n",
              "          element.innerHTML = '';\n",
              "          dataTable['output_type'] = 'display_data';\n",
              "          await google.colab.output.renderOutput(dataTable, element);\n",
              "          const docLink = document.createElement('div');\n",
              "          docLink.innerHTML = docLinkHtml;\n",
              "          element.appendChild(docLink);\n",
              "        }\n",
              "      </script>\n",
              "    </div>\n",
              "  </div>\n",
              "  "
            ]
          },
          "metadata": {},
          "execution_count": 37
        }
      ]
    },
    {
      "cell_type": "code",
      "source": [
        "#Vẽ biểu đồ boxplot cho Fatalities.\n",
        "df_z.boxplot(['Fatalities'])"
      ],
      "metadata": {
        "colab": {
          "base_uri": "https://localhost:8080/",
          "height": 282
        },
        "id": "jXPKQ6LMhBVi",
        "outputId": "0ae1d413-0c53-4cc5-9609-210d3914539b"
      },
      "execution_count": null,
      "outputs": [
        {
          "output_type": "execute_result",
          "data": {
            "text/plain": [
              "<matplotlib.axes._subplots.AxesSubplot at 0x7fd0637a2f90>"
            ]
          },
          "metadata": {},
          "execution_count": 38
        },
        {
          "output_type": "display_data",
          "data": {
            "text/plain": [
              "<Figure size 432x288 with 1 Axes>"
            ],
            "image/png": "[encoded data removed]"
          },
          "metadata": {
            "needs_background": "light"
          }
        }
      ]
    },
    {
      "cell_type": "code",
      "source": [
        "#Vẽ biểu đồ boxplot cho Injuries.\n",
        "df_z.boxplot(['Injuries'])"
      ],
      "metadata": {
        "colab": {
          "base_uri": "https://localhost:8080/",
          "height": 282
        },
        "id": "fRtMOfqgjeZ5",
        "outputId": "1ea4fb86-696c-4de0-9286-50e0badd1d21"
      },
      "execution_count": null,
      "outputs": [
        {
          "output_type": "execute_result",
          "data": {
            "text/plain": [
              "<matplotlib.axes._subplots.AxesSubplot at 0x7fd061d59890>"
            ]
          },
          "metadata": {},
          "execution_count": 39
        },
        {
          "output_type": "display_data",
          "data": {
            "text/plain": [
              "<Figure size 432x288 with 1 Axes>"
            ],
            "image/png": "[encoded data removed]"
          },
          "metadata": {
            "needs_background": "light"
          }
        }
      ]
    },
    {
      "cell_type": "markdown",
      "source": [
        "Câu 7: Hãy tính độ tương quan (correlation) giữa các cột định lượng. (Hay xây dựng correlation\n",
        "matrix)"
      ],
      "metadata": {
        "id": "5uUsZPko5Jv-"
      }
    },
    {
      "cell_type": "code",
      "source": [
        "correlation = df_z.corr(method=\"pearson\")\n",
        "correlation"
      ],
      "metadata": {
        "colab": {
          "base_uri": "https://localhost:8080/",
          "height": 112
        },
        "id": "LXZTVdxU5C7R",
        "outputId": "52b5b968-be64-4f83-85fb-04745a9da191"
      },
      "execution_count": null,
      "outputs": [
        {
          "output_type": "execute_result",
          "data": {
            "text/plain": [
              "            Fatalities  Injuries\n",
              "Fatalities    1.000000  0.000878\n",
              "Injuries      0.000878  1.000000"
            ],
            "text/html": [
              "\n",
              "  <div id=\"df-56f28ba9-8b3f-4e7b-abc2-9158352968d8\">\n",
              "    <div class=\"colab-df-container\">\n",
              "      <div>\n",
              "<style scoped>\n",
              "    .dataframe tbody tr th:only-of-type {\n",
              "        vertical-align: middle;\n",
              "    }\n",
              "\n",
              "    .dataframe tbody tr th {\n",
              "        vertical-align: top;\n",
              "    }\n",
              "\n",
              "    .dataframe thead th {\n",
              "        text-align: right;\n",
              "    }\n",
              "</style>\n",
              "<table border=\"1\" class=\"dataframe\">\n",
              "  <thead>\n",
              "    <tr style=\"text-align: right;\">\n",
              "      <th></th>\n",
              "      <th>Fatalities</th>\n",
              "      <th>Injuries</th>\n",
              "    </tr>\n",
              "  </thead>\n",
              "  <tbody>\n",
              "    <tr>\n",
              "      <th>Fatalities</th>\n",
              "      <td>1.000000</td>\n",
              "      <td>0.000878</td>\n",
              "    </tr>\n",
              "    <tr>\n",
              "      <th>Injuries</th>\n",
              "      <td>0.000878</td>\n",
              "      <td>1.000000</td>\n",
              "    </tr>\n",
              "  </tbody>\n",
              "</table>\n",
              "</div>\n",
              "      <button class=\"colab-df-convert\" onclick=\"convertToInteractive('df-56f28ba9-8b3f-4e7b-abc2-9158352968d8')\"\n",
              "              title=\"Convert this dataframe to an interactive table.\"\n",
              "              style=\"display:none;\">\n",
              "        \n",
              "  <svg xmlns=\"http://www.w3.org/2000/svg\" height=\"24px\"viewBox=\"0 0 24 24\"\n",
              "       width=\"24px\">\n",
              "    <path d=\"M0 0h24v24H0V0z\" fill=\"none\"/>\n",
              "    <path d=\"M18.56 5.44l.94 2.06.94-2.06 2.06-.94-2.06-.94-.94-2.06-.94 2.06-2.06.94zm-11 1L8.5 8.5l.94-2.06 2.06-.94-2.06-.94L8.5 2.5l-.94 2.06-2.06.94zm10 10l.94 2.06.94-2.06 2.06-.94-2.06-.94-.94-2.06-.94 2.06-2.06.94z\"/><path d=\"M17.41 7.96l-1.37-1.37c-.4-.4-.92-.59-1.43-.59-.52 0-1.04.2-1.43.59L10.3 9.45l-7.72 7.72c-.78.78-.78 2.05 0 2.83L4 21.41c.39.39.9.59 1.41.59.51 0 1.02-.2 1.41-.59l7.78-7.78 2.81-2.81c.8-.78.8-2.07 0-2.86zM5.41 20L4 18.59l7.72-7.72 1.47 1.35L5.41 20z\"/>\n",
              "  </svg>\n",
              "      </button>\n",
              "      \n",
              "  <style>\n",
              "    .colab-df-container {\n",
              "      display:flex;\n",
              "      flex-wrap:wrap;\n",
              "      gap: 12px;\n",
              "    }\n",
              "\n",
              "    .colab-df-convert {\n",
              "      background-color: #E8F0FE;\n",
              "      border: none;\n",
              "      border-radius: 50%;\n",
              "      cursor: pointer;\n",
              "      display: none;\n",
              "      fill: #1967D2;\n",
              "      height: 32px;\n",
              "      padding: 0 0 0 0;\n",
              "      width: 32px;\n",
              "    }\n",
              "\n",
              "    .colab-df-convert:hover {\n",
              "      background-color: #E2EBFA;\n",
              "      box-shadow: 0px 1px 2px rgba(60, 64, 67, 0.3), 0px 1px 3px 1px rgba(60, 64, 67, 0.15);\n",
              "      fill: #174EA6;\n",
              "    }\n",
              "\n",
              "    [theme=dark] .colab-df-convert {\n",
              "      background-color: #3B4455;\n",
              "      fill: #D2E3FC;\n",
              "    }\n",
              "\n",
              "    [theme=dark] .colab-df-convert:hover {\n",
              "      background-color: #434B5C;\n",
              "      box-shadow: 0px 1px 3px 1px rgba(0, 0, 0, 0.15);\n",
              "      filter: drop-shadow(0px 1px 2px rgba(0, 0, 0, 0.3));\n",
              "      fill: #FFFFFF;\n",
              "    }\n",
              "  </style>\n",
              "\n",
              "      <script>\n",
              "        const buttonEl =\n",
              "          document.querySelector('#df-56f28ba9-8b3f-4e7b-abc2-9158352968d8 button.colab-df-convert');\n",
              "        buttonEl.style.display =\n",
              "          google.colab.kernel.accessAllowed ? 'block' : 'none';\n",
              "\n",
              "        async function convertToInteractive(key) {\n",
              "          const element = document.querySelector('#df-56f28ba9-8b3f-4e7b-abc2-9158352968d8');\n",
              "          const dataTable =\n",
              "            await google.colab.kernel.invokeFunction('convertToInteractive',\n",
              "                                                     [key], {});\n",
              "          if (!dataTable) return;\n",
              "\n",
              "          const docLinkHtml = 'Like what you see? Visit the ' +\n",
              "            '<a target=\"_blank\" href=https://colab.research.google.com/notebooks/data_table.ipynb>data table notebook</a>'\n",
              "            + ' to learn more about interactive tables.';\n",
              "          element.innerHTML = '';\n",
              "          dataTable['output_type'] = 'display_data';\n",
              "          await google.colab.output.renderOutput(dataTable, element);\n",
              "          const docLink = document.createElement('div');\n",
              "          docLink.innerHTML = docLinkHtml;\n",
              "          element.appendChild(docLink);\n",
              "        }\n",
              "      </script>\n",
              "    </div>\n",
              "  </div>\n",
              "  "
            ]
          },
          "metadata": {},
          "execution_count": 40
        }
      ]
    },
    {
      "cell_type": "markdown",
      "source": [
        "Câu 8: Từ correlation matrix, Hãy vẽ:\n",
        "- Heat map (biểu đồ nhiệt)\n",
        "- Pair plot (biểu đồ cặp)"
      ],
      "metadata": {
        "id": "J96rXDfS5Zec"
      }
    },
    {
      "cell_type": "code",
      "source": [
        "#Biểu đồ nhiệt.\n",
        "ax = sns.heatmap(correlation,vmin = 0,vmax=1)"
      ],
      "metadata": {
        "colab": {
          "base_uri": "https://localhost:8080/",
          "height": 269
        },
        "id": "qdI9u14O5cYB",
        "outputId": "410e00a7-b817-4b8b-b6e6-d0179f56e174"
      },
      "execution_count": null,
      "outputs": [
        {
          "output_type": "display_data",
          "data": {
            "text/plain": [
              "<Figure size 432x288 with 2 Axes>"
            ],
            "image/png": "[encoded data removed]"
          },
          "metadata": {
            "needs_background": "light"
          }
        }
      ]
    },
    {
      "cell_type": "code",
      "source": [
        "#Pair plot (biểu đồ cặp)\n",
        "sns.pairplot(df_z);"
      ],
      "metadata": {
        "colab": {
          "base_uri": "https://localhost:8080/",
          "height": 374
        },
        "id": "wKtlYUTW5xYd",
        "outputId": "485cbd97-75a1-48b7-a26d-5967aed65fee"
      },
      "execution_count": null,
      "outputs": [
        {
          "output_type": "display_data",
          "data": {
            "text/plain": [
              "<Figure size 360x360 with 6 Axes>"
            ],
            "image/png": "[encoded data removed]"
          },
          "metadata": {
            "needs_background": "light"
          }
        }
      ]
    },
    {
      "cell_type": "markdown",
      "source": [
        "Câu 9: Đối với các cột dữ liệu định tính, hãy:\n",
        "- Vẽ biểu đồ cột dạng đứng\n",
        "- Vẽ biểu đồ cột dạng ngang\n",
        "- Vẽ biểu đồ đường tròn\n",
        "- Vẽ biểu đồ Pareto"
      ],
      "metadata": {
        "id": "KDKXnhTw52wC"
      }
    },
    {
      "cell_type": "code",
      "source": [
        "#Biểu đồ đứng\n",
        "x = dict(df[\"Aircraft Mass\"].value_counts()).keys()\n",
        "y = dict(df[\"Aircraft Mass\"].value_counts()).values()\n",
        "plt.bar(x,y);"
      ],
      "metadata": {
        "colab": {
          "base_uri": "https://localhost:8080/",
          "height": 265
        },
        "id": "nn3brXBM53dS",
        "outputId": "3ade65ea-9576-436c-c53a-30a237bffcb1"
      },
      "execution_count": null,
      "outputs": [
        {
          "output_type": "display_data",
          "data": {
            "text/plain": [
              "<Figure size 432x288 with 1 Axes>"
            ],
            "image/png": "[encoded data removed]"
          },
          "metadata": {
            "needs_background": "light"
          }
        }
      ]
    }
  ],
  "metadata": {
    "colab": {
      "collapsed_sections": [],
      "name": "pandas_4.ipynb",
      "provenance": [],
      "authorship_tag": "ABX9TyPgnvtLfr5eYA783HFMs5wB",
      "include_colab_link": true
    },
    "kernelspec": {
      "display_name": "Python 3",
      "name": "python3"
    },
    "language_info": {
      "name": "python"
    }
  },
  "nbformat": 4,
  "nbformat_minor": 0
}