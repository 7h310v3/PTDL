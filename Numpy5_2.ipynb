{
  "nbformat": 4,
  "nbformat_minor": 0,
  "metadata": {
    "colab": {
      "name": "Numpy5_2.ipynb",
      "private_outputs": true,
      "provenance": [],
      "collapsed_sections": [],
      "authorship_tag": "ABX9TyOMNrC9414brd+w583DHsTa",
      "include_colab_link": true
    },
    "kernelspec": {
      "name": "python3",
      "display_name": "Python 3"
    },
    "language_info": {
      "name": "python"
    }
  },
  "cells": [
    {
      "cell_type": "markdown",
      "metadata": {
        "id": "view-in-github",
        "colab_type": "text"
      },
      "source": [
        "<a href=\"https://colab.research.google.com/github/7h310v3/PTDL/blob/master/Numpy5_2.ipynb\" target=\"_parent\"><img src=\"https://colab.research.google.com/assets/colab-badge.svg\" alt=\"Open In Colab\"/></a>"
      ]
    },
    {
      "cell_type": "markdown",
      "source": [
        "Thêm thư viện TensorFlow và Numpy"
      ],
      "metadata": {
        "id": "4gN4HbOGIYcx"
      }
    },
    {
      "cell_type": "code",
      "source": [
        "import tensorflow as tf\n",
        "import numpy as np"
      ],
      "metadata": {
        "id": "j2Mj93iIIX_S"
      },
      "execution_count": null,
      "outputs": []
    },
    {
      "cell_type": "markdown",
      "source": [
        "Tạo tensor hạng 1"
      ],
      "metadata": {
        "id": "OZBAPHarIeJX"
      }
    },
    {
      "cell_type": "code",
      "execution_count": null,
      "metadata": {
        "id": "6sBPfbNLWcPP"
      },
      "outputs": [],
      "source": [
        "tsr1 = tf.constant(np.arange(start = -5, stop = 10, step = 1))\n",
        "\n",
        "print(tsr1)"
      ]
    },
    {
      "cell_type": "markdown",
      "source": [
        "Tạo tensor hạng 2"
      ],
      "metadata": {
        "id": "Fll-qYfoKTgF"
      }
    },
    {
      "cell_type": "code",
      "source": [
        "tsr2 = tf.constant(np.arange(start = -120, stop = 120, step = 1).reshape(24, 10))\n",
        "\n",
        "print(tsr2)"
      ],
      "metadata": {
        "id": "EAM3p4DcJzhd"
      },
      "execution_count": null,
      "outputs": []
    },
    {
      "cell_type": "markdown",
      "source": [
        "Tạo tensor hạng 3"
      ],
      "metadata": {
        "id": "qQ51B8TfKUPJ"
      }
    },
    {
      "cell_type": "code",
      "source": [
        "tsr3 = tf.constant(np.arange(start = -5, stop = 19, step = 1).reshape(4, 3, 2))\n",
        "\n",
        "print(tsr3)"
      ],
      "metadata": {
        "id": "l-Hz6epzKWq6"
      },
      "execution_count": null,
      "outputs": []
    },
    {
      "cell_type": "markdown",
      "source": [
        "Tạo tensor hạng 4"
      ],
      "metadata": {
        "id": "k6yFFUnBKVT9"
      }
    },
    {
      "cell_type": "code",
      "source": [
        "tsr4 = tf.constant(np.arange(start = -5, stop = 43, step = 1).reshape(4, 3, 2, 2))\n",
        "\n",
        "print(tsr4)"
      ],
      "metadata": {
        "id": "EPQ2VDeXKXM_"
      },
      "execution_count": null,
      "outputs": []
    }
  ]
}